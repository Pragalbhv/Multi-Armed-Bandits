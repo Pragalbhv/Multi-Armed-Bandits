{
 "cells": [
  {
   "cell_type": "code",
   "execution_count": 14,
   "metadata": {},
   "outputs": [],
   "source": [
    "def majoslgo(correct):\n",
    "    ################### Base defs#################\n",
    "    def predict(word,aset):\n",
    "         a=[]\n",
    "         for i in aset:\n",
    "            a.append([i,cd(word,i)])\n",
    "         return a\n",
    "    def ldim(word,aset):\n",
    "            count=0\n",
    "            branches=[]\n",
    "            for test in aset:\n",
    "                branch=cd(word,test)\n",
    "                if branch not in branches:\n",
    "                    count+=1\n",
    "                    branches.append(branch)\n",
    "            return count  \n",
    "    def best_choice(aset):\n",
    "        max_branch=0\n",
    "        word=aset[0]# default just in \n",
    "        for test in aset:\n",
    "            count=ldim(test,aset)\n",
    "            if count>max_branch:\n",
    "                word=test\n",
    "                max_branch=count\n",
    "        return word\n",
    "    ############################################\n",
    "    #we choose a random word. for noww let it be datset[0]\n",
    "    totset=datset\n",
    "    count=0\n",
    "    dictset={}\n",
    "    tree=[[0,totset]] #for path use only, comment out in the og program\n",
    "    while totset: #4D for final \n",
    "#         word=best_choice(totset)\n",
    "        word=totset[0]\n",
    "        print(word)\n",
    "        #we select rando word from totset each round. then we predict de ys.\n",
    "        #we choose dict key match de word yt\n",
    "\n",
    "\n",
    "        #now we find yt predicts\n",
    "        ytot=predict(word,totset)\n",
    "        for i in ytot:#getting yts\n",
    "            y=i[1]\n",
    "            w=i[0]\n",
    "            if y in dictset:\n",
    "                dictset[y].append(w)\n",
    "            else:\n",
    "                dictset[y]=[w]\n",
    "        yt=cd(correct,word)#use input in the real algo....\n",
    "        if yt==6:\n",
    "            print('no of mistakes:- ', count)\n",
    "            print(tree)\n",
    "            return word\n",
    "        else:\n",
    "            totset=dictset[yt]\n",
    "            print(dictset)\n",
    "            count+=1\n",
    "            tree.append([count,totset])\n",
    "            dictset={}\n",
    "    return \"\"        \n",
    "\n",
    "\n",
    "\n",
    "\n",
    "        \n",
    "\n",
    "            "
   ]
  },
  {
   "cell_type": "code",
   "execution_count": 16,
   "metadata": {},
   "outputs": [],
   "source": [
    "def cd(s1,s2):\n",
    "    dog=0\n",
    "    for i in range(len(s1)):\n",
    "        if s1[i]==s2[i]:\n",
    "            dog+=1\n",
    "    if dog==0:\n",
    "        return -1\n",
    "    return dog"
   ]
  },
  {
   "cell_type": "code",
   "execution_count": 36,
   "metadata": {},
   "outputs": [],
   "source": [
    "def best_(aset):\n",
    "    word=aset[0]# default just in\n",
    "    m=len(aset)\n",
    "    max=0\n",
    "    sum1=[0 for i in range(m)]\n",
    "    for test in range(m):\n",
    "        for testi in range(m):\n",
    "            sum1[test]+=cd(aset[test],aset[testi])\n",
    "        if sum1[test]>max:\n",
    "            max=sum1[test]\n",
    "            word=aset[test]\n",
    "    return word"
   ]
  },
  {
   "cell_type": "code",
   "execution_count": 37,
   "metadata": {},
   "outputs": [
    {
     "data": {
      "text/plain": [
       "'aabb'"
      ]
     },
     "execution_count": 37,
     "metadata": {},
     "output_type": "execute_result"
    }
   ],
   "source": [
    "best_(['aaaa','aabb','bbbb'])"
   ]
  },
  {
   "cell_type": "code",
   "execution_count": 39,
   "metadata": {},
   "outputs": [],
   "source": [
    "l1=[0,1,2,3,4,5,6,7,8,9,10]"
   ]
  },
  {
   "cell_type": "code",
   "execution_count": 42,
   "metadata": {},
   "outputs": [
    {
     "data": {
      "text/plain": [
       "9"
      ]
     },
     "execution_count": 42,
     "metadata": {},
     "output_type": "execute_result"
    }
   ],
   "source": [
    "l1[-2]"
   ]
  },
  {
   "cell_type": "code",
   "execution_count": 45,
   "metadata": {},
   "outputs": [
    {
     "name": "stdout",
     "output_type": "stream",
     "text": [
      "-1\n",
      "-2\n",
      "-3\n"
     ]
    }
   ],
   "source": [
    "for i in range(-1,-4,-1):\n",
    "    print(i)"
   ]
  },
  {
   "cell_type": "code",
   "execution_count": 58,
   "metadata": {},
   "outputs": [
    {
     "data": {
      "text/plain": [
       "1"
      ]
     },
     "execution_count": 58,
     "metadata": {},
     "output_type": "execute_result"
    }
   ],
   "source": [
    "12//10"
   ]
  },
  {
   "cell_type": "code",
   "execution_count": 61,
   "metadata": {},
   "outputs": [
    {
     "ename": "SyntaxError",
     "evalue": "invalid syntax (<ipython-input-61-a3e8ac245b24>, line 1)",
     "output_type": "error",
     "traceback": [
      "\u001b[1;36m  File \u001b[1;32m\"<ipython-input-61-a3e8ac245b24>\"\u001b[1;36m, line \u001b[1;32m1\u001b[0m\n\u001b[1;33m    l=\u001b[0m\n\u001b[1;37m      ^\u001b[0m\n\u001b[1;31mSyntaxError\u001b[0m\u001b[1;31m:\u001b[0m invalid syntax\n"
     ]
    }
   ],
   "source": [
    "l="
   ]
  },
  {
   "cell_type": "code",
   "execution_count": null,
   "metadata": {},
   "outputs": [],
   "source": [
    "for i in range()"
   ]
  },
  {
   "cell_type": "code",
   "execution_count": 69,
   "metadata": {},
   "outputs": [],
   "source": [
    "def addTwoNumbers(l1,l2):\n",
    "        m=max(len(l1),len(l2))\n",
    "        n=min(len(l1),len(l2))  \n",
    "        l3=[0 in range(m+1)]\n",
    "        carry=[0 in range(m+1)]\n",
    "        for i in range(-1,-n-1,-1):\n",
    "            sum1=l1[i]+l2[i]\n",
    "            print(sum1)\n",
    "            carry[i+1]=sum1//10\n",
    "            l3[i]=sum1%10+carry[i]\n",
    "            print(l3[i])\n",
    "        if l3[0]==0:\n",
    "            l3.pop(0)\n",
    "        print(l3)\n",
    "        return(l3)"
   ]
  },
  {
   "cell_type": "code",
   "execution_count": 70,
   "metadata": {},
   "outputs": [
    {
     "name": "stdout",
     "output_type": "stream",
     "text": [
      "3\n",
      "3\n",
      "4\n"
     ]
    },
    {
     "ename": "IndexError",
     "evalue": "list index out of range",
     "output_type": "error",
     "traceback": [
      "\u001b[1;31m---------------------------------------------------------------------------\u001b[0m",
      "\u001b[1;31mIndexError\u001b[0m                                Traceback (most recent call last)",
      "\u001b[1;32m<ipython-input-70-8fc84495df96>\u001b[0m in \u001b[0;36m<module>\u001b[1;34m\u001b[0m\n\u001b[1;32m----> 1\u001b[1;33m \u001b[0maddTwoNumbers\u001b[0m\u001b[1;33m(\u001b[0m\u001b[1;33m[\u001b[0m\u001b[1;36m3\u001b[0m\u001b[1;33m,\u001b[0m\u001b[1;36m1\u001b[0m\u001b[1;33m]\u001b[0m\u001b[1;33m,\u001b[0m\u001b[1;33m[\u001b[0m\u001b[1;36m1\u001b[0m\u001b[1;33m,\u001b[0m\u001b[1;36m2\u001b[0m\u001b[1;33m]\u001b[0m\u001b[1;33m)\u001b[0m\u001b[1;33m\u001b[0m\u001b[1;33m\u001b[0m\u001b[0m\n\u001b[0m",
      "\u001b[1;32m<ipython-input-69-72ca5ec55263>\u001b[0m in \u001b[0;36maddTwoNumbers\u001b[1;34m(l1, l2)\u001b[0m\n\u001b[0;32m      8\u001b[0m             \u001b[0mprint\u001b[0m\u001b[1;33m(\u001b[0m\u001b[0msum1\u001b[0m\u001b[1;33m)\u001b[0m\u001b[1;33m\u001b[0m\u001b[1;33m\u001b[0m\u001b[0m\n\u001b[0;32m      9\u001b[0m             \u001b[0mcarry\u001b[0m\u001b[1;33m[\u001b[0m\u001b[0mi\u001b[0m\u001b[1;33m+\u001b[0m\u001b[1;36m1\u001b[0m\u001b[1;33m]\u001b[0m\u001b[1;33m=\u001b[0m\u001b[0msum1\u001b[0m\u001b[1;33m//\u001b[0m\u001b[1;36m10\u001b[0m\u001b[1;33m\u001b[0m\u001b[1;33m\u001b[0m\u001b[0m\n\u001b[1;32m---> 10\u001b[1;33m             \u001b[0ml3\u001b[0m\u001b[1;33m[\u001b[0m\u001b[0mi\u001b[0m\u001b[1;33m]\u001b[0m\u001b[1;33m=\u001b[0m\u001b[0msum1\u001b[0m\u001b[1;33m%\u001b[0m\u001b[1;36m10\u001b[0m\u001b[1;33m+\u001b[0m\u001b[0mcarry\u001b[0m\u001b[1;33m[\u001b[0m\u001b[0mi\u001b[0m\u001b[1;33m]\u001b[0m\u001b[1;33m\u001b[0m\u001b[1;33m\u001b[0m\u001b[0m\n\u001b[0m\u001b[0;32m     11\u001b[0m             \u001b[0mprint\u001b[0m\u001b[1;33m(\u001b[0m\u001b[0ml3\u001b[0m\u001b[1;33m[\u001b[0m\u001b[0mi\u001b[0m\u001b[1;33m]\u001b[0m\u001b[1;33m)\u001b[0m\u001b[1;33m\u001b[0m\u001b[1;33m\u001b[0m\u001b[0m\n\u001b[0;32m     12\u001b[0m         \u001b[1;32mif\u001b[0m \u001b[0ml3\u001b[0m\u001b[1;33m[\u001b[0m\u001b[1;36m0\u001b[0m\u001b[1;33m]\u001b[0m\u001b[1;33m==\u001b[0m\u001b[1;36m0\u001b[0m\u001b[1;33m:\u001b[0m\u001b[1;33m\u001b[0m\u001b[1;33m\u001b[0m\u001b[0m\n",
      "\u001b[1;31mIndexError\u001b[0m: list index out of range"
     ]
    }
   ],
   "source": [
    "addTwoNumbers([3,1],[1,2])"
   ]
  },
  {
   "cell_type": "code",
   "execution_count": 8,
   "metadata": {},
   "outputs": [
    {
     "data": {
      "text/plain": [
       "['pzrooh',\n",
       " 'aaakrw',\n",
       " 'vgvkxb',\n",
       " 'ilaumf',\n",
       " 'snzsrz',\n",
       " 'qymapx',\n",
       " 'hhjgwz',\n",
       " 'mymxyu',\n",
       " 'jglmrs',\n",
       " 'yycsvl',\n",
       " 'fuyzco',\n",
       " 'ivfyfx',\n",
       " 'hzlhqt',\n",
       " 'ansstc',\n",
       " 'ujkfnr',\n",
       " 'jrekmp',\n",
       " 'himbkv',\n",
       " 'tjztqw',\n",
       " 'jmcapu',\n",
       " 'gwwwmd',\n",
       " 'ffpond',\n",
       " 'ytzssw',\n",
       " 'afyjnp',\n",
       " 'ttrfzi',\n",
       " 'xkwmsz',\n",
       " 'oavtsf',\n",
       " 'krwjwb',\n",
       " 'bkgjcs',\n",
       " 'vsigmc',\n",
       " 'qhpxxt',\n",
       " 'apzrtt',\n",
       " 'posjnv',\n",
       " 'zlatkz',\n",
       " 'zynlqc',\n",
       " 'czajmi',\n",
       " 'smmbhm',\n",
       " 'rvlxav',\n",
       " 'wkytta',\n",
       " 'dzkfer',\n",
       " 'urajfh',\n",
       " 'lsroct',\n",
       " 'gihvuu',\n",
       " 'qtnlhu',\n",
       " 'ucjgio',\n",
       " 'xyycvd',\n",
       " 'fsssoo',\n",
       " 'kdtmux',\n",
       " 'bxnppe',\n",
       " 'usucra',\n",
       " 'hvsmau',\n",
       " 'gstvvg',\n",
       " 'ypueay',\n",
       " 'qdlvod',\n",
       " 'djfbgs',\n",
       " 'mcufib',\n",
       " 'prohkc',\n",
       " 'dsqgms',\n",
       " 'eoasya',\n",
       " 'kzplbv',\n",
       " 'rcuevr',\n",
       " 'iwapqf',\n",
       " 'ucqdac',\n",
       " 'anqomr',\n",
       " 'msztnf',\n",
       " 'tppefv',\n",
       " 'mplbgz',\n",
       " 'xnskvo',\n",
       " 'euhxrh',\n",
       " 'xrqxzw',\n",
       " 'wraxvn',\n",
       " 'zjhlou',\n",
       " 'xwdvvl',\n",
       " 'dkbiys',\n",
       " 'zbtnuv',\n",
       " 'gxrhjh',\n",
       " 'ctrczk',\n",
       " 'iwylwn',\n",
       " 'wefuhr',\n",
       " 'enlcrg',\n",
       " 'eimtep',\n",
       " 'xzvntq',\n",
       " 'zvygyf',\n",
       " 'tbzmzk',\n",
       " 'xjptby',\n",
       " 'uxyacb',\n",
       " 'mbalze',\n",
       " 'bjosah',\n",
       " 'ckojzr',\n",
       " 'ihboso',\n",
       " 'ogxylw',\n",
       " 'cfnatk',\n",
       " 'zijwnl',\n",
       " 'eczmmc',\n",
       " 'uazfyo',\n",
       " 'apywnl',\n",
       " 'jiraqa',\n",
       " 'yjksyd',\n",
       " 'mrpczo',\n",
       " 'qqmhnb',\n",
       " 'xxvsbx']"
      ]
     },
     "execution_count": 8,
     "metadata": {},
     "output_type": "execute_result"
    }
   ],
   "source": [
    "\"anqomr\"\n",
    "[\"pzrooh\",\"aaakrw\",\"vgvkxb\",\"ilaumf\",\"snzsrz\",\"qymapx\",\"hhjgwz\",\"mymxyu\",\"jglmrs\",\"yycsvl\",\"fuyzco\",\"ivfyfx\",\"hzlhqt\",\"ansstc\",\"ujkfnr\",\"jrekmp\",\"himbkv\",\"tjztqw\",\"jmcapu\",\"gwwwmd\",\"ffpond\",\"ytzssw\",\"afyjnp\",\"ttrfzi\",\"xkwmsz\",\"oavtsf\",\"krwjwb\",\"bkgjcs\",\"vsigmc\",\"qhpxxt\",\"apzrtt\",\"posjnv\",\"zlatkz\",\"zynlqc\",\"czajmi\",\"smmbhm\",\"rvlxav\",\"wkytta\",\"dzkfer\",\"urajfh\",\"lsroct\",\"gihvuu\",\"qtnlhu\",\"ucjgio\",\"xyycvd\",\"fsssoo\",\"kdtmux\",\"bxnppe\",\"usucra\",\"hvsmau\",\"gstvvg\",\"ypueay\",\"qdlvod\",\"djfbgs\",\"mcufib\",\"prohkc\",\"dsqgms\",\"eoasya\",\"kzplbv\",\"rcuevr\",\"iwapqf\",\"ucqdac\",\"anqomr\",\"msztnf\",\"tppefv\",\"mplbgz\",\"xnskvo\",\"euhxrh\",\"xrqxzw\",\"wraxvn\",\"zjhlou\",\"xwdvvl\",\"dkbiys\",\"zbtnuv\",\"gxrhjh\",\"ctrczk\",\"iwylwn\",\"wefuhr\",\"enlcrg\",\"eimtep\",\"xzvntq\",\"zvygyf\",\"tbzmzk\",\"xjptby\",\"uxyacb\",\"mbalze\",\"bjosah\",\"ckojzr\",\"ihboso\",\"ogxylw\",\"cfnatk\",\"zijwnl\",\"eczmmc\",\"uazfyo\",\"apywnl\",\"jiraqa\",\"yjksyd\",\"mrpczo\",\"qqmhnb\",\"xxvsbx\"]"
   ]
  },
  {
   "cell_type": "code",
   "execution_count": 9,
   "metadata": {},
   "outputs": [],
   "source": [
    "datset=[\"pzrooh\",\"aaakrw\",\"vgvkxb\",\"ilaumf\",\"snzsrz\",\"qymapx\",\"hhjgwz\",\"mymxyu\",\"jglmrs\",\"yycsvl\",\"fuyzco\",\"ivfyfx\",\"hzlhqt\",\"ansstc\",\"ujkfnr\",\"jrekmp\",\"himbkv\",\"tjztqw\",\"jmcapu\",\"gwwwmd\",\"ffpond\",\"ytzssw\",\"afyjnp\",\"ttrfzi\",\"xkwmsz\",\"oavtsf\",\"krwjwb\",\"bkgjcs\",\"vsigmc\",\"qhpxxt\",\"apzrtt\",\"posjnv\",\"zlatkz\",\"zynlqc\",\"czajmi\",\"smmbhm\",\"rvlxav\",\"wkytta\",\"dzkfer\",\"urajfh\",\"lsroct\",\"gihvuu\",\"qtnlhu\",\"ucjgio\",\"xyycvd\",\"fsssoo\",\"kdtmux\",\"bxnppe\",\"usucra\",\"hvsmau\",\"gstvvg\",\"ypueay\",\"qdlvod\",\"djfbgs\",\"mcufib\",\"prohkc\",\"dsqgms\",\"eoasya\",\"kzplbv\",\"rcuevr\",\"iwapqf\",\"ucqdac\",\"anqomr\",\"msztnf\",\"tppefv\",\"mplbgz\",\"xnskvo\",\"euhxrh\",\"xrqxzw\",\"wraxvn\",\"zjhlou\",\"xwdvvl\",\"dkbiys\",\"zbtnuv\",\"gxrhjh\",\"ctrczk\",\"iwylwn\",\"wefuhr\",\"enlcrg\",\"eimtep\",\"xzvntq\",\"zvygyf\",\"tbzmzk\",\"xjptby\",\"uxyacb\",\"mbalze\",\"bjosah\",\"ckojzr\",\"ihboso\",\"ogxylw\",\"cfnatk\",\"zijwnl\",\"eczmmc\",\"uazfyo\",\"apywnl\",\"jiraqa\",\"yjksyd\",\"mrpczo\",\"qqmhnb\",\"xxvsbx\"]"
   ]
  },
  {
   "cell_type": "code",
   "execution_count": 15,
   "metadata": {},
   "outputs": [
    {
     "name": "stdout",
     "output_type": "stream",
     "text": [
      "pzrooh\n",
      "{6: ['pzrooh'], -1: ['aaakrw', 'vgvkxb', 'ilaumf', 'snzsrz', 'qymapx', 'hhjgwz', 'mymxyu', 'jglmrs', 'yycsvl', 'fuyzco', 'ivfyfx', 'ansstc', 'ujkfnr', 'jrekmp', 'himbkv', 'tjztqw', 'jmcapu', 'gwwwmd', 'ytzssw', 'afyjnp', 'xkwmsz', 'oavtsf', 'krwjwb', 'bkgjcs', 'vsigmc', 'qhpxxt', 'apzrtt', 'zlatkz', 'zynlqc', 'smmbhm', 'rvlxav', 'wkytta', 'gihvuu', 'qtnlhu', 'ucjgio', 'xyycvd', 'kdtmux', 'bxnppe', 'usucra', 'hvsmau', 'gstvvg', 'ypueay', 'djfbgs', 'mcufib', 'dsqgms', 'eoasya', 'rcuevr', 'iwapqf', 'ucqdac', 'msztnf', 'tppefv', 'mplbgz', 'xnskvo', 'xrqxzw', 'wraxvn', 'xwdvvl', 'dkbiys', 'zbtnuv', 'iwylwn', 'wefuhr', 'enlcrg', 'eimtep', 'zvygyf', 'tbzmzk', 'xjptby', 'uxyacb', 'mbalze', 'ckojzr', 'ogxylw', 'cfnatk', 'zijwnl', 'eczmmc', 'uazfyo', 'apywnl', 'yjksyd', 'mrpczo', 'qqmhnb', 'xxvsbx'], 1: ['hzlhqt', 'ffpond', 'ttrfzi', 'posjnv', 'czajmi', 'dzkfer', 'urajfh', 'fsssoo', 'qdlvod', 'prohkc', 'kzplbv', 'anqomr', 'euhxrh', 'zjhlou', 'ctrczk', 'xzvntq', 'bjosah', 'ihboso', 'jiraqa'], 2: ['lsroct', 'gxrhjh']}\n",
      "hzlhqt\n",
      "{6: ['hzlhqt'], -1: ['ffpond', 'ttrfzi', 'posjnv', 'urajfh', 'fsssoo', 'anqomr', 'euhxrh', 'zjhlou', 'ctrczk', 'bjosah', 'ihboso'], 1: ['czajmi', 'dzkfer', 'qdlvod', 'prohkc', 'kzplbv', 'xzvntq', 'jiraqa']}\n",
      "ffpond\n",
      "{6: ['ffpond'], -1: ['ttrfzi', 'urajfh', 'euhxrh', 'zjhlou', 'ctrczk', 'bjosah'], 1: ['posjnv', 'fsssoo', 'anqomr', 'ihboso']}\n",
      "posjnv\n",
      "{6: ['posjnv'], 1: ['fsssoo'], -1: ['anqomr', 'ihboso']}\n",
      "anqomr\n",
      "no of mistakes:-  4\n",
      "[[0, ['pzrooh', 'aaakrw', 'vgvkxb', 'ilaumf', 'snzsrz', 'qymapx', 'hhjgwz', 'mymxyu', 'jglmrs', 'yycsvl', 'fuyzco', 'ivfyfx', 'hzlhqt', 'ansstc', 'ujkfnr', 'jrekmp', 'himbkv', 'tjztqw', 'jmcapu', 'gwwwmd', 'ffpond', 'ytzssw', 'afyjnp', 'ttrfzi', 'xkwmsz', 'oavtsf', 'krwjwb', 'bkgjcs', 'vsigmc', 'qhpxxt', 'apzrtt', 'posjnv', 'zlatkz', 'zynlqc', 'czajmi', 'smmbhm', 'rvlxav', 'wkytta', 'dzkfer', 'urajfh', 'lsroct', 'gihvuu', 'qtnlhu', 'ucjgio', 'xyycvd', 'fsssoo', 'kdtmux', 'bxnppe', 'usucra', 'hvsmau', 'gstvvg', 'ypueay', 'qdlvod', 'djfbgs', 'mcufib', 'prohkc', 'dsqgms', 'eoasya', 'kzplbv', 'rcuevr', 'iwapqf', 'ucqdac', 'anqomr', 'msztnf', 'tppefv', 'mplbgz', 'xnskvo', 'euhxrh', 'xrqxzw', 'wraxvn', 'zjhlou', 'xwdvvl', 'dkbiys', 'zbtnuv', 'gxrhjh', 'ctrczk', 'iwylwn', 'wefuhr', 'enlcrg', 'eimtep', 'xzvntq', 'zvygyf', 'tbzmzk', 'xjptby', 'uxyacb', 'mbalze', 'bjosah', 'ckojzr', 'ihboso', 'ogxylw', 'cfnatk', 'zijwnl', 'eczmmc', 'uazfyo', 'apywnl', 'jiraqa', 'yjksyd', 'mrpczo', 'qqmhnb', 'xxvsbx']], [1, ['hzlhqt', 'ffpond', 'ttrfzi', 'posjnv', 'czajmi', 'dzkfer', 'urajfh', 'fsssoo', 'qdlvod', 'prohkc', 'kzplbv', 'anqomr', 'euhxrh', 'zjhlou', 'ctrczk', 'xzvntq', 'bjosah', 'ihboso', 'jiraqa']], [2, ['ffpond', 'ttrfzi', 'posjnv', 'urajfh', 'fsssoo', 'anqomr', 'euhxrh', 'zjhlou', 'ctrczk', 'bjosah', 'ihboso']], [3, ['posjnv', 'fsssoo', 'anqomr', 'ihboso']], [4, ['anqomr', 'ihboso']]]\n"
     ]
    },
    {
     "data": {
      "text/plain": [
       "'anqomr'"
      ]
     },
     "execution_count": 15,
     "metadata": {},
     "output_type": "execute_result"
    }
   ],
   "source": [
    "majoslgo(\"anqomr\")"
   ]
  },
  {
   "cell_type": "code",
   "execution_count": 2,
   "metadata": {},
   "outputs": [
    {
     "ename": "IndentationError",
     "evalue": "unexpected indent (<ipython-input-2-584a48e9c2d8>, line 9)",
     "output_type": "error",
     "traceback": [
      "\u001b[1;36m  File \u001b[1;32m\"<ipython-input-2-584a48e9c2d8>\"\u001b[1;36m, line \u001b[1;32m9\u001b[0m\n\u001b[1;33m    def cd(s1,s2):\u001b[0m\n\u001b[1;37m    ^\u001b[0m\n\u001b[1;31mIndentationError\u001b[0m\u001b[1;31m:\u001b[0m unexpected indent\n"
     ]
    }
   ],
   "source": [
    "# \"\"\"\n",
    "# This is Master's API interface.\n",
    "# You should not implement it, or speculate about its implementation\n",
    "# \"\"\"\n",
    "# class Master:\n",
    "#     def guess(self, word: str) -> int:\n",
    "\n",
    "\n",
    "        def cd(s1,s2):\n",
    "            dog=0\n",
    "            for i in range(len(s1)):\n",
    "                if s1[i]==s2[i]:\n",
    "                    dog+=1\n",
    "            if dog==0:\n",
    "                return -1\n",
    "            return dog\n",
    "            ################### Base defs#################\n",
    "        def predict(word,aset):\n",
    "             a=[]\n",
    "             for i in aset:\n",
    "                a.append([i,cd(word,i)])\n",
    "             return a\n",
    "        def ldim(word,aset):\n",
    "                count=0\n",
    "                branches=[]\n",
    "                for test in aset:\n",
    "                    branch=cd(word,test)\n",
    "                    if branch not in branches:\n",
    "                        count+=1\n",
    "                        branches.append(branch)\n",
    "                return count  \n",
    "        def best_choice(aset):\n",
    "            max_branch=0\n",
    "            word=aset[0]# default just in \n",
    "            # for test in aset:\n",
    "            #     count=ldim(test,aset)\n",
    "            #     if count>max_branch:\n",
    "            #         word=test\n",
    "            #         max_branch=count\n",
    "            # return word\n",
    "        #########################################################################\n",
    "        #we choose a random word. for noww let it be datset[0]\n",
    "        totset=wordlist\n",
    "        count=0\n",
    "        dictset={}\n",
    "        tree=[[0,totset]] #for path use only, comment out in the og program\n",
    "        while totset: #4D for final \n",
    "            word=best_choice(totset)\n",
    "            #we select rando word from totset each round. then we predict de ys.\n",
    "            #we choose dict key match de word yt\n",
    "\n",
    "\n",
    "            #now we find yt predicts\n",
    "            ytot=predict(word,totset)\n",
    "            for i in ytot:#getting yts\n",
    "                y=i[1]\n",
    "                w=i[0]\n",
    "                if y in dictset:\n",
    "                    dictset[y].append(w)\n",
    "                else:\n",
    "                    dictset[y]=[w]\n",
    "            yt=master.guess(word)#use input in the real algo....\n",
    "            if yt==6:\n",
    "                print('no of mistakes:- ', count)\n",
    "                print(tree)\n",
    "                return word\n",
    "            else:\n",
    "                totset=dictset[yt]\n",
    "                count+=1\n",
    "                tree.append([count,totset])\n",
    "                dictset={}\n",
    "        return \"\"        \n",
    "\n",
    "\n",
    "\n",
    "\n",
    "        \n",
    "\n",
    "            \n",
    "    "
   ]
  },
  {
   "cell_type": "code",
   "execution_count": null,
   "metadata": {},
   "outputs": [],
   "source": [
    "\"anqomr\"\n",
    "[\"pzrooh\",\"aaakrw\",\"vgvkxb\",\"ilaumf\",\"snzsrz\",\"qymapx\",\"hhjgwz\",\"mymxyu\",\"jglmrs\",\"yycsvl\",\"fuyzco\",\"ivfyfx\",\"hzlhqt\",\"ansstc\",\"ujkfnr\",\"jrekmp\",\"himbkv\",\"tjztqw\",\"jmcapu\",\"gwwwmd\",\"ffpond\",\"ytzssw\",\"afyjnp\",\"ttrfzi\",\"xkwmsz\",\"oavtsf\",\"krwjwb\",\"bkgjcs\",\"vsigmc\",\"qhpxxt\",\"apzrtt\",\"posjnv\",\"zlatkz\",\"zynlqc\",\"czajmi\",\"smmbhm\",\"rvlxav\",\"wkytta\",\"dzkfer\",\"urajfh\",\"lsroct\",\"gihvuu\",\"qtnlhu\",\"ucjgio\",\"xyycvd\",\"fsssoo\",\"kdtmux\",\"bxnppe\",\"usucra\",\"hvsmau\",\"gstvvg\",\"ypueay\",\"qdlvod\",\"djfbgs\",\"mcufib\",\"prohkc\",\"dsqgms\",\"eoasya\",\"kzplbv\",\"rcuevr\",\"iwapqf\",\"ucqdac\",\"anqomr\",\"msztnf\",\"tppefv\",\"mplbgz\",\"xnskvo\",\"euhxrh\",\"xrqxzw\",\"wraxvn\",\"zjhlou\",\"xwdvvl\",\"dkbiys\",\"zbtnuv\",\"gxrhjh\",\"ctrczk\",\"iwylwn\",\"wefuhr\",\"enlcrg\",\"eimtep\",\"xzvntq\",\"zvygyf\",\"tbzmzk\",\"xjptby\",\"uxyacb\",\"mbalze\",\"bjosah\",\"ckojzr\",\"ihboso\",\"ogxylw\",\"cfnatk\",\"zijwnl\",\"eczmmc\",\"uazfyo\",\"apywnl\",\"jiraqa\",\"yjksyd\",\"mrpczo\",\"qqmhnb\",\"xxvsbx\"]"
   ]
  }
 ],
 "metadata": {
  "kernelspec": {
   "display_name": "Python 3",
   "language": "python",
   "name": "python3"
  },
  "language_info": {
   "codemirror_mode": {
    "name": "ipython",
    "version": 3
   },
   "file_extension": ".py",
   "mimetype": "text/x-python",
   "name": "python",
   "nbconvert_exporter": "python",
   "pygments_lexer": "ipython3",
   "version": "3.8.5"
  }
 },
 "nbformat": 4,
 "nbformat_minor": 4
}
