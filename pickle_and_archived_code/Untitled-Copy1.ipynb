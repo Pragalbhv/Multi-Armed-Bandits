{
 "cells": [
  {
   "cell_type": "code",
   "execution_count": 1,
   "metadata": {},
   "outputs": [],
   "source": [
    "import matplotlib.pyplot as plt\n",
    "import numpy as np\n",
    "import math\n",
    "# mu, sigma = 0.5, 0.1\n",
    "# s = np.random.normal(mu, sigma, 1000)\n",
    "\n",
    "# # Create the bins and histogram\n",
    "# count, bins, ignored = plt.hist(s, 20, normed=True)\n",
    "\n",
    "# # Plot the distribution curve\n",
    "# plt.plot(bins, 1/(sigma * np.sqrt(2 * np.pi)) *\n",
    "#     np.exp( - (bins - mu)**2 / (2 * sigma**2) ),       linewidth=3, color='y')\n",
    "# plt.show()"
   ]
  },
  {
   "cell_type": "code",
   "execution_count": 2,
   "metadata": {},
   "outputs": [
    {
     "ename": "NameError",
     "evalue": "name 'x_axis' is not defined",
     "output_type": "error",
     "traceback": [
      "\u001b[1;31m---------------------------------------------------------------------------\u001b[0m",
      "\u001b[1;31mNameError\u001b[0m                                 Traceback (most recent call last)",
      "\u001b[1;32m<ipython-input-2-7756ec487287>\u001b[0m in \u001b[0;36m<module>\u001b[1;34m\u001b[0m\n\u001b[0;32m     10\u001b[0m \u001b[1;33m\u001b[0m\u001b[0m\n\u001b[0;32m     11\u001b[0m \u001b[1;31m## y-axis as the gaussian\u001b[0m\u001b[1;33m\u001b[0m\u001b[1;33m\u001b[0m\u001b[1;33m\u001b[0m\u001b[0m\n\u001b[1;32m---> 12\u001b[1;33m \u001b[0my_data\u001b[0m \u001b[1;33m=\u001b[0m \u001b[0mstats\u001b[0m\u001b[1;33m.\u001b[0m\u001b[0mnorm\u001b[0m\u001b[1;33m.\u001b[0m\u001b[0mpdf\u001b[0m\u001b[1;33m(\u001b[0m\u001b[0mx_axis\u001b[0m\u001b[1;33m,\u001b[0m \u001b[1;36m0\u001b[0m\u001b[1;33m,\u001b[0m \u001b[1;36m1\u001b[0m\u001b[1;33m)\u001b[0m\u001b[1;33m\u001b[0m\u001b[1;33m\u001b[0m\u001b[0m\n\u001b[0m\u001b[0;32m     13\u001b[0m \u001b[1;33m\u001b[0m\u001b[0m\n\u001b[0;32m     14\u001b[0m \u001b[1;31m## plot data\u001b[0m\u001b[1;33m\u001b[0m\u001b[1;33m\u001b[0m\u001b[1;33m\u001b[0m\u001b[0m\n",
      "\u001b[1;31mNameError\u001b[0m: name 'x_axis' is not defined"
     ]
    }
   ],
   "source": [
    "import numpy as np\n",
    "import scipy as sp\n",
    "from scipy import stats\n",
    "import matplotlib.pyplot as plt \n",
    "\n",
    "## generate the data and plot it for an ideal normal curve\n",
    "\n",
    "## x-axis for the plot\n",
    "x_data = np.arange(-5, 5, 0.001)\n",
    "\n",
    "## y-axis as the gaussian\n",
    "y_data = stats.norm.pdf(x_axis, 0, 1)\n",
    "\n",
    "## plot data\n",
    "plt.plot(x_data, y_data)\n",
    "plt.show()"
   ]
  },
  {
   "cell_type": "code",
   "execution_count": 3,
   "metadata": {},
   "outputs": [
    {
     "name": "stdout",
     "output_type": "stream",
     "text": [
      "[1.59970534 1.18924403]\n"
     ]
    }
   ],
   "source": [
    "from numpy import random\n",
    "\n",
    "\n",
    "x = random.normal(loc=0, scale=1,size=2) #mu_\n",
    "\n",
    "print(x) "
   ]
  },
  {
   "cell_type": "code",
   "execution_count": 23,
   "metadata": {},
   "outputs": [],
   "source": [
    "class arms:\n",
    "    def __init__(me,delta,T):\n",
    "        me.arm1=random.normal(loc=0, scale=1, size=T)\n",
    "        me.arm2=random.normal(loc=delta, scale=1, size=T)\n",
    "        \n",
    "    def getarms(me):\n",
    "        return [me.arm1,me.arm2]\n",
    "    def getrew(me, it):\n",
    "        return [me.arm1[it],me.arm2[it]]"
   ]
  },
  {
   "cell_type": "code",
   "execution_count": 109,
   "metadata": {},
   "outputs": [],
   "source": [
    "class bandits:\n",
    "    def __init__(me):\n",
    "        me.mean1=0\n",
    "        me.count1=0\n",
    "        me.mean2=0\n",
    "        me.count2=0\n",
    "    \n",
    "    def update(me,reward,arm):\n",
    "        if arm==1:\n",
    "            updt= me.mean1*me.count1+reward\n",
    "            me.count1+=1\n",
    "            me.mean1=updt/me.count1\n",
    "        elif arm==2: \n",
    "            updt= me.mean1*me.count2+reward\n",
    "            me.count2+=1\n",
    "            me.mean2=updt/me.count2\n",
    "        else:\n",
    "            pass\n",
    "            \n",
    "    def fullupdate(me,rewardvec):\n",
    "        me.update(rewardvec[0],1)\n",
    "        me.update(rewardvec[1],2)\n",
    "        \n",
    "    def returnarm(me):\n",
    "        return me.mean1, me.mean2"
   ]
  },
  {
   "cell_type": "code",
   "execution_count": 253,
   "metadata": {},
   "outputs": [
    {
     "data": {
      "text/plain": [
       "60.419033900416906"
      ]
     },
     "execution_count": 253,
     "metadata": {},
     "output_type": "execute_result"
    }
   ],
   "source": [
    "arm=arms(0.1,1000)\n",
    "# bandit=bandits()\n",
    "a=np.sum(arm.getarms())\n",
    "a"
   ]
  },
  {
   "cell_type": "code",
   "execution_count": 104,
   "metadata": {},
   "outputs": [
    {
     "data": {
      "text/plain": [
       "(0, 0)"
      ]
     },
     "execution_count": 104,
     "metadata": {},
     "output_type": "execute_result"
    }
   ],
   "source": [
    "bandit.returnarm()\n"
   ]
  },
  {
   "cell_type": "code",
   "execution_count": null,
   "metadata": {},
   "outputs": [],
   "source": [
    "arm"
   ]
  },
  {
   "cell_type": "code",
   "execution_count": 8,
   "metadata": {},
   "outputs": [],
   "source": [
    "def optimalGETC(T,delta):\n",
    "    answer=4/(delta**2)*math.log(T*delta**2/4)\n",
    "    answer=math.ceil(answer)\n",
    "    return answer"
   ]
  },
  {
   "cell_type": "code",
   "execution_count": 9,
   "metadata": {},
   "outputs": [
    {
     "data": {
      "text/plain": [
       "367"
      ]
     },
     "execution_count": 9,
     "metadata": {},
     "output_type": "execute_result"
    }
   ],
   "source": [
    "optimalGETC(1000,0.1) "
   ]
  },
  {
   "cell_type": "code",
   "execution_count": 74,
   "metadata": {},
   "outputs": [],
   "source": [
    "def GETC(delta,T=1000):\n",
    "    reward=0\n",
    "    reward1=0\n",
    "    reward2=0\n",
    "    arm=arms(delta,T)\n",
    "    known_bandits=bandits()\n",
    "    full_bandits=bandits()\n",
    "    m=optimalGETC(T,delta)\n",
    "    chk=0\n",
    "    for t in range(T):\n",
    "        rewvec=arm.getrew(t)\n",
    "        reward1+=rewvec[0]\n",
    "        reward2+=rewvec[1]\n",
    "        full_bandits.fullupdate(rewvec)\n",
    "        if t<=2*m:#m multiplied by number of arms\n",
    "            i=t%2+1\n",
    "            reward+=rewvec[i-1]\n",
    "            known_bandits.update(rewvec[i-1],i)\n",
    "            \n",
    "        else:#t>mK\n",
    "            if chk==0:\n",
    "                i=np.argmax(known_bandits.returnarm())+1\n",
    "                chk=1\n",
    "            #print(i)\n",
    "            reward+=rewvec[i-1]\n",
    "            known_bandits.update(rewvec[i-1],i)\n",
    "    print(i) \n",
    "    print(known_bandits.returnarm())\n",
    "    print([reward1,reward2,reward])\n",
    "    print(full_bandits.returnarm())\n",
    "    regret=np.amax([reward1,reward2]) -reward\n",
    "    return regret\n",
    "            \n",
    "        \n",
    "        \n",
    "        \n",
    "    "
   ]
  },
  {
   "cell_type": "code",
   "execution_count": 103,
   "metadata": {},
   "outputs": [
    {
     "name": "stdout",
     "output_type": "stream",
     "text": [
      "1\n",
      "(0.016228976956265358, 0.06708111125342264)\n",
      "[-3.762443973616467, 58.76710194344453, 2.3785046800093794]\n",
      "(-0.003762443973616517, -0.0033321477077753)\n"
     ]
    },
    {
     "data": {
      "text/plain": [
       "56.38859726343515"
      ]
     },
     "execution_count": 103,
     "metadata": {},
     "output_type": "execute_result"
    }
   ],
   "source": [
    "GETC(0.1)"
   ]
  },
  {
   "cell_type": "code",
   "execution_count": 24,
   "metadata": {},
   "outputs": [],
   "source": [
    "def GETC0(delta,T=1000,T_o=367,arms=[0 for k in range(1000)]):\n",
    "    reward=0\n",
    "    reward1=0\n",
    "    reward2=0\n",
    "    arm=arms\n",
    "    known_bandits=bandits()\n",
    "    full_bandits=bandits()\n",
    "    m=T_o/2\n",
    "    chk=0\n",
    "    for t in range(T):\n",
    "        rewvec=arm.getrew(t)\n",
    "        reward1+=rewvec[0]\n",
    "        reward2+=rewvec[1]\n",
    "#         full_bandits.fullupdate(rewvec)\n",
    "        if t<=2*m:#m multiplied by number of arms\n",
    "            i=t%2+1\n",
    "            reward+=rewvec[i-1]\n",
    "            known_bandits.update(rewvec[i-1],i)\n",
    "            \n",
    "        else:#t>mK\n",
    "            if chk==0:\n",
    "                i=np.argmax(known_bandits.returnarm())+1\n",
    "                chk=1\n",
    "            #print(i)\n",
    "            reward+=rewvec[i-1]\n",
    "            known_bandits.update(rewvec[i-1],i)\n",
    "#     print(i) \n",
    "#     print(known_bandits.returnarm())\n",
    "#     print([reward1,reward2,reward])\n",
    "    regret=np.amax([reward1,reward2]) -reward\n",
    "    return regret\n",
    "            \n",
    "        \n",
    "        \n",
    "        \n",
    "    "
   ]
  },
  {
   "cell_type": "code",
   "execution_count": 25,
   "metadata": {},
   "outputs": [],
   "source": [
    "median=[0 for i in range(1000)]\n",
    "maxi=[-22 for i in range(1000)]\n",
    "mini=[22 for i in range(1000)]\n",
    "for i in range(1000):\n",
    "    arm=arms(0.1,10000)\n",
    "    for j in range (10000):\n",
    "        reg=GETC0(0.1,1000,i,arm)\n",
    "        median[i]+=reg\n",
    "        if reg>maxi[i]:\n",
    "            maxi[i]=reg\n",
    "        elif reg<mini[i]:\n",
    "            mini[i]=reg\n",
    "\n",
    "    median[i]=median[i]/10000\n",
    "        "
   ]
  },
  {
   "cell_type": "code",
   "execution_count": 49,
   "metadata": {},
   "outputs": [
    {
     "data": {
      "text/plain": [
       "57.29074438480148"
      ]
     },
     "execution_count": 49,
     "metadata": {},
     "output_type": "execute_result"
    }
   ],
   "source": [
    "median[367]"
   ]
  },
  {
   "cell_type": "code",
   "execution_count": 40,
   "metadata": {},
   "outputs": [],
   "source": [
    "import pickle\n"
   ]
  },
  {
   "cell_type": "code",
   "execution_count": 43,
   "metadata": {},
   "outputs": [],
   "source": [
    "filename = 'mini1'\n",
    "outfile = open(filename,'wb')"
   ]
  },
  {
   "cell_type": "code",
   "execution_count": 44,
   "metadata": {},
   "outputs": [],
   "source": [
    "pickle.dump(mini,outfile)\n",
    "outfile.close()"
   ]
  },
  {
   "cell_type": "code",
   "execution_count": 45,
   "metadata": {},
   "outputs": [
    {
     "name": "stdout",
     "output_type": "stream",
     "text": [
      "2\n",
      "(0.024877811677222014, 0.024891642593219635)\n",
      "[80.57562170877593, 1089.223977299252, 969.544937866313]\n"
     ]
    },
    {
     "data": {
      "text/plain": [
       "119.67903943293902"
      ]
     },
     "execution_count": 45,
     "metadata": {},
     "output_type": "execute_result"
    }
   ],
   "source": [
    "GETC(0.1,10000)"
   ]
  },
  {
   "cell_type": "code",
   "execution_count": 50,
   "metadata": {},
   "outputs": [
    {
     "data": {
      "text/plain": [
       "[<matplotlib.lines.Line2D at 0x20b7c1e6b20>]"
      ]
     },
     "execution_count": 50,
     "metadata": {},
     "output_type": "execute_result"
    },
    {
     "data": {
      "image/png": "[encoded data removed]",
      "text/plain": [
       "<Figure size 432x288 with 1 Axes>"
      ]
     },
     "metadata": {
      "needs_background": "light"
     },
     "output_type": "display_data"
    }
   ],
   "source": [
    "plt.plot(median)"
   ]
  },
  {
   "cell_type": "code",
   "execution_count": null,
   "metadata": {},
   "outputs": [],
   "source": [
    "# Create the bins and histogram\n",
    "count, bins, ignored = plt.hist(arm.arm1, 10, density=True)\n",
    "\n",
    "# Plot the distribution curve\n",
    "plt.plot(bins, 1/(sigma * np.sqrt(2 * np.pi)) *   np.exp( - (bins - mu)**2 / (2 * sigma**2) ),       linewidth=3, color='y')\n",
    "plt.show()"
   ]
  },
  {
   "cell_type": "code",
   "execution_count": 56,
   "metadata": {},
   "outputs": [],
   "source": [
    "ban=bandits()"
   ]
  },
  {
   "cell_type": "code",
   "execution_count": 134,
   "metadata": {},
   "outputs": [],
   "source": [
    "ban.update(2,1)"
   ]
  },
  {
   "cell_type": "code",
   "execution_count": 62,
   "metadata": {},
   "outputs": [],
   "source": [
    "ban.update(1,2)"
   ]
  },
  {
   "cell_type": "code",
   "execution_count": 139,
   "metadata": {},
   "outputs": [
    {
     "data": {
      "text/plain": [
       "(1.8805970149253732, 1.0)"
      ]
     },
     "execution_count": 139,
     "metadata": {},
     "output_type": "execute_result"
    }
   ],
   "source": [
    "ban.returnarm()"
   ]
  }
 ],
 "metadata": {
  "kernelspec": {
   "display_name": "Python 3",
   "language": "python",
   "name": "python3"
  },
  "language_info": {
   "codemirror_mode": {
    "name": "ipython",
    "version": 3
   },
   "file_extension": ".py",
   "mimetype": "text/x-python",
   "name": "python",
   "nbconvert_exporter": "python",
   "pygments_lexer": "ipython3",
   "version": "3.8.5"
  }
 },
 "nbformat": 4,
 "nbformat_minor": 4
}
