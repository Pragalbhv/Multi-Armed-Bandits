{
 "cells": [
  {
   "cell_type": "code",
   "execution_count": 8,
   "metadata": {},
   "outputs": [],
   "source": [
    "import matplotlib.pyplot as plt\n",
    "import numpy as np\n",
    "import math\n",
    "from numpy import random"
   ]
  },
  {
   "cell_type": "code",
   "execution_count": null,
   "metadata": {},
   "outputs": [],
   "source": []
  },
  {
   "cell_type": "code",
   "execution_count": null,
   "metadata": {},
   "outputs": [],
   "source": [
    "\n"
   ]
  },
  {
   "cell_type": "code",
   "execution_count": 9,
   "metadata": {},
   "outputs": [],
   "source": [
    "class arms:\n",
    "    def __init__(me,delta,T):\n",
    "        me.arm1=random.normal(loc=0, scale=1, size=T)\n",
    "        me.arm2=random.normal(loc=delta, scale=1, size=T)\n",
    "        \n",
    "    def getarms(me):\n",
    "        return [me.arm1,me.arm2]\n",
    "    def getloss(me, it):\n",
    "        return [me.arm1[it],me.arm2[it]]"
   ]
  },
  {
   "cell_type": "code",
   "execution_count": 6,
   "metadata": {},
   "outputs": [],
   "source": [
    "class bandits:\n",
    "    def __init__(me):\n",
    "        me.mean1=0\n",
    "        me.count1=0\n",
    "        me.mean2=0\n",
    "        me.count2=0\n",
    "    \n",
    "    def update(me,loss,arm):\n",
    "        if arm==1:\n",
    "            updt= me.mean1*me.count1+loss\n",
    "            me.count1+=1\n",
    "            me.mean1=updt/me.count1\n",
    "        elif arm==2: \n",
    "            updt= me.mean1*me.count2+loss\n",
    "            me.count2+=1\n",
    "            me.mean2=updt/me.count2\n",
    "        else:\n",
    "            pass\n",
    "            \n",
    "    def fullupdate(me,lossvec):\n",
    "        me.update(lossvec[0],1)\n",
    "        me.update(lossvec[1],2)\n",
    "        \n",
    "    def returnarm(me):\n",
    "        return me.mean1, me.mean2"
   ]
  },
  {
   "cell_type": "code",
   "execution_count": 10,
   "metadata": {},
   "outputs": [
    {
     "data": {
      "text/plain": [
       "106.74890652698062"
      ]
     },
     "execution_count": 10,
     "metadata": {},
     "output_type": "execute_result"
    }
   ],
   "source": [
    "arm=arms(0.1,1000)\n",
    "# bandit=bandits()\n",
    "a=np.sum(arm.getarms())\n",
    "a"
   ]
  },
  {
   "cell_type": "code",
   "execution_count": 11,
   "metadata": {},
   "outputs": [
    {
     "ename": "NameError",
     "evalue": "name 'bandit' is not defined",
     "output_type": "error",
     "traceback": [
      "\u001b[1;31m---------------------------------------------------------------------------\u001b[0m",
      "\u001b[1;31mNameError\u001b[0m                                 Traceback (most recent call last)",
      "\u001b[1;32m<ipython-input-11-d2755ab3bfa6>\u001b[0m in \u001b[0;36m<module>\u001b[1;34m\u001b[0m\n\u001b[1;32m----> 1\u001b[1;33m \u001b[0mbandit\u001b[0m\u001b[1;33m.\u001b[0m\u001b[0mreturnarm\u001b[0m\u001b[1;33m(\u001b[0m\u001b[1;33m)\u001b[0m\u001b[1;33m\u001b[0m\u001b[1;33m\u001b[0m\u001b[0m\n\u001b[0m",
      "\u001b[1;31mNameError\u001b[0m: name 'bandit' is not defined"
     ]
    }
   ],
   "source": [
    "bandit.returnarm()\n"
   ]
  },
  {
   "cell_type": "code",
   "execution_count": null,
   "metadata": {},
   "outputs": [],
   "source": [
    "arm"
   ]
  },
  {
   "cell_type": "code",
   "execution_count": 12,
   "metadata": {},
   "outputs": [],
   "source": [
    "def optimalGETC(T,delta):\n",
    "    answer=4/(delta**2)*math.log(T*delta**2/4)\n",
    "    answer=math.ceil(answer)\n",
    "    return answer"
   ]
  },
  {
   "cell_type": "code",
   "execution_count": 13,
   "metadata": {},
   "outputs": [
    {
     "data": {
      "text/plain": [
       "367"
      ]
     },
     "execution_count": 13,
     "metadata": {},
     "output_type": "execute_result"
    }
   ],
   "source": [
    "optimalGETC(1000,0.1) "
   ]
  },
  {
   "cell_type": "code",
   "execution_count": 208,
   "metadata": {},
   "outputs": [],
   "source": [
    "def GETC(delta,T=1000):\n",
    "    loss=0\n",
    "    loss1=0\n",
    "    loss2=0\n",
    "    arm=arms(delta,T)\n",
    "    known_bandits=bandits()\n",
    "    full_bandits=bandits()\n",
    "    m=optimalGETC(T,delta)\n",
    "    chk=0\n",
    "    for t in range(T):\n",
    "        lossvec=arm.getloss(t)\n",
    "        loss1+=lossvec[0]\n",
    "        loss2+=lossvec[1]\n",
    "        full_bandits.fullupdate(lossvec)\n",
    "        if t<=2*m:#m multiplied by number of arms\n",
    "            i=t%2+1\n",
    "            loss+=lossvec[i-1]\n",
    "            known_bandits.update(lossvec[i-1],i)\n",
    "            \n",
    "        else:#t>mK\n",
    "            if chk==0:\n",
    "                i=np.argmin(known_bandits.returnarm())+1\n",
    "                chk=1\n",
    "                print(known_bandits.returnarm())\n",
    "            #print(i)\n",
    "            loss+=lossvec[i-1]\n",
    "            known_bandits.update(lossvec[i-1],i)\n",
    "    print(i) \n",
    "    print(known_bandits.returnarm())\n",
    "    print([loss1,loss2,loss])\n",
    "    print(full_bandits.returnarm())\n",
    "    regret=loss-np.amin([loss1,loss2])\n",
    "    return regret\n",
    "            \n",
    "        \n",
    "        \n",
    "        \n",
    "    "
   ]
  },
  {
   "cell_type": "code",
   "execution_count": 232,
   "metadata": {},
   "outputs": [
    {
     "name": "stdout",
     "output_type": "stream",
     "text": [
      "(0.017090006577859515, 0.020242379026365425)\n",
      "1\n",
      "(0.017043503058345087, 0.020242379026365425)\n",
      "[15.290802638806067, 79.93551542716756, 62.51012478268491]\n",
      "(0.01529080263880606, 0.01581096256503795)\n"
     ]
    },
    {
     "data": {
      "text/plain": [
       "47.21932214387884"
      ]
     },
     "execution_count": 232,
     "metadata": {},
     "output_type": "execute_result"
    }
   ],
   "source": [
    "GETC(0.1)"
   ]
  },
  {
   "cell_type": "code",
   "execution_count": 236,
   "metadata": {},
   "outputs": [],
   "source": [
    "def GETC0(delta,T=1000,T_o=367,arms=[0 for k in range(1000)]):\n",
    "    loss=0\n",
    "    loss1=0\n",
    "    loss2=0\n",
    "    arm=arms(delta,T)\n",
    "    known_bandits=bandits()\n",
    "    full_bandits=bandits()\n",
    "    m=T_o\n",
    "    chk=0\n",
    "    for t in range(T):\n",
    "        rewvec=arm.getrew(t)\n",
    "        reward1+=rewvec[0]\n",
    "        reward2+=rewvec[1]\n",
    "#         full_bandits.fullupdate(rewvec)\n",
    "        if t<=2*m:#m multiplied by number of arms\n",
    "            i=t%2+1\n",
    "            reward+=rewvec[i-1]\n",
    "            known_bandits.update(rewvec[i-1],i)\n",
    "            \n",
    "        else:#t>mK\n",
    "            if chk==0:\n",
    "                i=np.argmax(known_bandits.returnarm())+1\n",
    "                chk=1\n",
    "            #print(i)\n",
    "            reward+=rewvec[i-1]\n",
    "            known_bandits.update(rewvec[i-1],i)\n",
    "#     print(i) \n",
    "#     print(known_bandits.returnarm())\n",
    "#     print([reward1,reward2,reward])\n",
    "    regret=np.amax([reward1,reward2]) -reward\n",
    "    return regret\n",
    "            \n",
    "        \n",
    "        \n",
    "        \n",
    "    "
   ]
  },
  {
   "cell_type": "code",
   "execution_count": 237,
   "metadata": {},
   "outputs": [
    {
     "name": "stderr",
     "output_type": "stream",
     "text": [
      "100%|████████████████████████████████████████████████████████████████████████████| 1000/1000 [1:25:09<00:00,  5.11s/it]\n"
     ]
    }
   ],
   "source": [
    "from tqdm import tqdm\n",
    "median=[0 for i in range(1000)]\n",
    "maxi=[-22 for i in range(1000)]\n",
    "mini=[22 for i in range(1000)]\n",
    "for i in tqdm(range(1000)):\n",
    "    arm=arms(0.1,1000)\n",
    "    for j in range (1000):\n",
    "        reg=GETC0(0.1,1000,i,arm)\n",
    "        median[i]+=reg\n",
    "        if reg>maxi[i]:\n",
    "            maxi[i]=reg\n",
    "        elif reg<mini[i]:\n",
    "            mini[i]=reg\n",
    "\n",
    "    median[i]=median[i]/1000\n",
    "        "
   ]
  },
  {
   "cell_type": "code",
   "execution_count": 49,
   "metadata": {},
   "outputs": [
    {
     "data": {
      "text/plain": [
       "57.29074438480148"
      ]
     },
     "execution_count": 49,
     "metadata": {},
     "output_type": "execute_result"
    }
   ],
   "source": [
    "median[367]"
   ]
  },
  {
   "cell_type": "code",
   "execution_count": 40,
   "metadata": {},
   "outputs": [],
   "source": [
    "import pickle\n"
   ]
  },
  {
   "cell_type": "code",
   "execution_count": 43,
   "metadata": {},
   "outputs": [],
   "source": [
    "filename = 'mini1'\n",
    "outfile = open(filename,'wb')"
   ]
  },
  {
   "cell_type": "code",
   "execution_count": 44,
   "metadata": {},
   "outputs": [],
   "source": [
    "pickle.dump(mini,outfile)\n",
    "outfile.close()"
   ]
  },
  {
   "cell_type": "code",
   "execution_count": 45,
   "metadata": {},
   "outputs": [
    {
     "name": "stdout",
     "output_type": "stream",
     "text": [
      "2\n",
      "(0.024877811677222014, 0.024891642593219635)\n",
      "[80.57562170877593, 1089.223977299252, 969.544937866313]\n"
     ]
    },
    {
     "data": {
      "text/plain": [
       "119.67903943293902"
      ]
     },
     "execution_count": 45,
     "metadata": {},
     "output_type": "execute_result"
    }
   ],
   "source": [
    "GETC(0.1,10000)"
   ]
  },
  {
   "cell_type": "code",
   "execution_count": 238,
   "metadata": {},
   "outputs": [
    {
     "data": {
      "text/plain": [
       "[<matplotlib.lines.Line2D at 0x1cebed76b50>]"
      ]
     },
     "execution_count": 238,
     "metadata": {},
     "output_type": "execute_result"
    },
    {
     "data": {
      "image/png": "[encoded data removed]",
      "text/plain": [
       "<Figure size 432x288 with 1 Axes>"
      ]
     },
     "metadata": {
      "needs_background": "light"
     },
     "output_type": "display_data"
    }
   ],
   "source": [
    "plt.plot(median)"
   ]
  },
  {
   "cell_type": "code",
   "execution_count": null,
   "metadata": {},
   "outputs": [],
   "source": [
    "# Create the bins and histogram\n",
    "count, bins, ignored = plt.hist(arm.arm1, 10, density=True)\n",
    "\n",
    "# Plot the distribution curve\n",
    "plt.plot(bins, 1/(sigma * np.sqrt(2 * np.pi)) *   np.exp( - (bins - mu)**2 / (2 * sigma**2) ),       linewidth=3, color='y')\n",
    "plt.show()"
   ]
  },
  {
   "cell_type": "code",
   "execution_count": 56,
   "metadata": {},
   "outputs": [],
   "source": [
    "ban=bandits()"
   ]
  },
  {
   "cell_type": "code",
   "execution_count": 134,
   "metadata": {},
   "outputs": [],
   "source": [
    "ban.update(2,1)"
   ]
  },
  {
   "cell_type": "code",
   "execution_count": 62,
   "metadata": {},
   "outputs": [],
   "source": [
    "ban.update(1,2)"
   ]
  },
  {
   "cell_type": "code",
   "execution_count": 139,
   "metadata": {},
   "outputs": [
    {
     "data": {
      "text/plain": [
       "(1.8805970149253732, 1.0)"
      ]
     },
     "execution_count": 139,
     "metadata": {},
     "output_type": "execute_result"
    }
   ],
   "source": [
    "ban.returnarm()"
   ]
  }
 ],
 "metadata": {
  "kernelspec": {
   "display_name": "Python 3",
   "language": "python",
   "name": "python3"
  },
  "language_info": {
   "codemirror_mode": {
    "name": "ipython",
    "version": 3
   },
   "file_extension": ".py",
   "mimetype": "text/x-python",
   "name": "python",
   "nbconvert_exporter": "python",
   "pygments_lexer": "ipython3",
   "version": "3.8.5"
  }
 },
 "nbformat": 4,
 "nbformat_minor": 4
}
