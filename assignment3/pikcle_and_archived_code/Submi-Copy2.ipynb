{
 "cells": [
  {
   "cell_type": "code",
   "execution_count": 1,
   "metadata": {},
   "outputs": [],
   "source": [
    "import matplotlib.pyplot as plt\n",
    "import numpy as np\n",
    "import math\n",
    "from numpy import random"
   ]
  },
  {
   "cell_type": "code",
   "execution_count": 2,
   "metadata": {},
   "outputs": [],
   "source": [
    "class arms:\n",
    "    def __init__(me,delta,T):\n",
    "        me.arm1=random.normal(loc=0, scale=1, size=T)\n",
    "        me.arm2=random.normal(loc=delta, scale=1, size=T)\n",
    "        \n",
    "    def getarms(me):\n",
    "        return [me.arm1,me.arm2]\n",
    "    def getloss(me, it):\n",
    "        return [me.arm1[it],me.arm2[it]]"
   ]
  },
  {
   "cell_type": "code",
   "execution_count": 3,
   "metadata": {},
   "outputs": [],
   "source": [
    "class bandits:\n",
    "    def __init__(me):\n",
    "        me.mean1=0\n",
    "        me.count1=0\n",
    "        me.mean2=0\n",
    "        me.count2=0\n",
    "    \n",
    "    def update(me,loss,arm):\n",
    "        if arm==1:\n",
    "            updt= me.mean1*me.count1-loss\n",
    "            me.count1+=1\n",
    "            me.mean1=updt/me.count1\n",
    "        elif arm==2: \n",
    "            updt= me.mean1*me.count2-loss\n",
    "            me.count2+=1\n",
    "            me.mean2=updt/me.count2\n",
    "        else:\n",
    "            pass\n",
    "            \n",
    "    def fullupdate(me,lossvec):\n",
    "        me.update(lossvec[0],1)\n",
    "        me.update(lossvec[1],2)\n",
    "        \n",
    "    def returnarm(me):\n",
    "        return me.mean1, me.mean2"
   ]
  },
  {
   "cell_type": "code",
   "execution_count": 4,
   "metadata": {},
   "outputs": [],
   "source": [
    "def f(t):\n",
    "    return 1+t*(np.log(t))**2"
   ]
  },
  {
   "cell_type": "code",
   "execution_count": 5,
   "metadata": {},
   "outputs": [],
   "source": [
    "# print(f(np.e))"
   ]
  },
  {
   "cell_type": "code",
   "execution_count": 6,
   "metadata": {},
   "outputs": [],
   "source": [
    "class newbandits:\n",
    "    def __init__(me):\n",
    "        me.mean1=0\n",
    "        me.count1=0\n",
    "        me.ucb1=0\n",
    "        #___________________\n",
    "        me.mean2=0\n",
    "        me.count2=0\n",
    "        me.ucb2=0\n",
    "    \n",
    "    def update(me,loss,arm,t):\n",
    "        #update after t for t+1\n",
    "        if arm==1:\n",
    "            updt= me.mean1*me.count1-loss\n",
    "            me.count1+=1\n",
    "            me.mean1=updt/me.count1\n",
    "            #___________________\n",
    "            me.ucb1= me.mean1+np.sqrt(2*np.log(f(t))/(me.count1))\n",
    "        \n",
    "        elif arm==2: \n",
    "            updt= me.mean1*me.count2-loss\n",
    "            me.count2+=1\n",
    "            me.mean2=updt/me.count2\n",
    "            #___________________\n",
    "            me.ucb2= me.mean2+np.sqrt(2*np.log(f(t))/(me.count2))\n",
    "        else:\n",
    "            pass\n",
    "            \n",
    "    def fullupdate(me,lossvec,t):\n",
    "        me.update(lossvec[0],1,t)\n",
    "        me.update(lossvec[1],2,t)\n",
    "    \n",
    "    def getUCB(me):\n",
    "        return [me.ucb1, me.ucb2]\n",
    "        \n",
    "    def returnarm(me):\n",
    "        return me.mean1, me.mean2"
   ]
  },
  {
   "cell_type": "code",
   "execution_count": 7,
   "metadata": {},
   "outputs": [
    {
     "data": {
      "text/plain": [
       "183.61744937285843"
      ]
     },
     "execution_count": 7,
     "metadata": {},
     "output_type": "execute_result"
    }
   ],
   "source": [
    "arm=arms(0.1,1000)\n",
    "# bandit=bandits()\n",
    "a=np.sum(arm.getarms())\n",
    "a"
   ]
  },
  {
   "cell_type": "code",
   "execution_count": 8,
   "metadata": {},
   "outputs": [],
   "source": [
    "def optimalGETC(T,delta):\n",
    "    answer=4/(delta**2)*math.log(T*delta**2/4)\n",
    "    answer=math.ceil(answer)\n",
    "    return answer"
   ]
  },
  {
   "cell_type": "code",
   "execution_count": 9,
   "metadata": {},
   "outputs": [
    {
     "data": {
      "text/plain": [
       "367"
      ]
     },
     "execution_count": 9,
     "metadata": {},
     "output_type": "execute_result"
    }
   ],
   "source": [
    "optimalGETC(1000,0.1) "
   ]
  },
  {
   "cell_type": "code",
   "execution_count": 10,
   "metadata": {},
   "outputs": [
    {
     "ename": "NameError",
     "evalue": "name 'GETC' is not defined",
     "output_type": "error",
     "traceback": [
      "\u001b[1;31m---------------------------------------------------------------------------\u001b[0m",
      "\u001b[1;31mNameError\u001b[0m                                 Traceback (most recent call last)",
      "\u001b[1;32m<ipython-input-10-e93642ee6f29>\u001b[0m in \u001b[0;36m<module>\u001b[1;34m\u001b[0m\n\u001b[1;32m----> 1\u001b[1;33m \u001b[0mGETC\u001b[0m\u001b[1;33m(\u001b[0m\u001b[1;36m0.1\u001b[0m\u001b[1;33m)\u001b[0m\u001b[1;33m\u001b[0m\u001b[1;33m\u001b[0m\u001b[0m\n\u001b[0m",
      "\u001b[1;31mNameError\u001b[0m: name 'GETC' is not defined"
     ]
    }
   ],
   "source": [
    "GETC(0.1)"
   ]
  },
  {
   "cell_type": "code",
   "execution_count": null,
   "metadata": {},
   "outputs": [],
   "source": [
    "# arm=arms(0.1,1000)\n"
   ]
  },
  {
   "cell_type": "code",
   "execution_count": 13,
   "metadata": {},
   "outputs": [],
   "source": [
    "def arand(T,arm):\n",
    "    loss=0\n",
    "    loss1=0\n",
    "    loss2=0\n",
    "    regretbound=[]\n",
    "    for t in range(1,T+1):\n",
    "        lossvec=arm.getloss(t-1)\n",
    "        #____\n",
    "        loss1-=lossvec[0]\n",
    "        loss2-=lossvec[1]\n",
    "        #_______%2+1\n",
    "        i=t%2+1\n",
    "        loss-=lossvec[i-1]\n",
    "        regretbound.append(loss- np.amin([loss1,loss2]))\n",
    "       \n",
    "    return regretbound"
   ]
  },
  {
   "cell_type": "code",
   "execution_count": null,
   "metadata": {},
   "outputs": [],
   "source": []
  },
  {
   "cell_type": "code",
   "execution_count": 2,
   "metadata": {},
   "outputs": [],
   "source": [
    "def GETC0(delta,T=1000,arms=[0 for k in range(1000)]):\n",
    "    loss=0\n",
    "    loss1=0\n",
    "    loss2=0\n",
    "    regretbound=[]\n",
    "#     ucb1=0\n",
    "#     ucb2=0\n",
    "    arm=arms\n",
    "    known_bandits=newbandits()\n",
    "    full_bandits=newbandits()\n",
    "    chk=0\n",
    "    for t in range(1,T+1):\n",
    "        lossvec=arm.getloss(t-1)\n",
    "        #____\n",
    "        loss1-=lossvec[0]\n",
    "        loss2-=lossvec[1]\n",
    "        full_bandits.fullupdate(lossvec,t)\n",
    "        #_______\n",
    "        if t<=2:\n",
    "            i=t\n",
    "            loss-=lossvec[i-1]\n",
    "            known_bandits.update(lossvec[i-1],i,t)\n",
    "            regretbound.append(loss- np.amin([loss1,loss2]))\n",
    "        else:#t>2\n",
    "#             if t==3:\n",
    "#                 print(known_bandits.getUCB())\n",
    "            i=np.argmax(known_bandits.getUCB())+1\n",
    "#             print(known_bandits.returnarm())\n",
    "            #print(i)\n",
    "            loss-=lossvec[i-1]\n",
    "            known_bandits.update(lossvec[i-1],i,t)\n",
    "            regretbound.append(loss- np.amin([loss1,loss2]))\n",
    "#     print(i) \n",
    "#     print(known_bandits.returnarm())\n",
    "#     print(known_bandits.getUCB())\n",
    "#     print([known_bandits.count1,known_bandits.count2])\n",
    "#     print([loss1,loss2,loss])\n",
    "#     print(full_bandits.returnarm())\n",
    "#     print(full_bandits.getUCB())\n",
    "#     print([full_bandits.count1,full_bandits.count2])\n",
    "#     regret=loss- np.amin([loss1,loss2])\n",
    "#     print(regret)\n",
    "#     print(regretbound)\n",
    "    return regretbound\n",
    "        \n",
    "        \n",
    "        \n",
    "    "
   ]
  },
  {
   "cell_type": "code",
   "execution_count": 3,
   "metadata": {},
   "outputs": [
    {
     "ename": "NameError",
     "evalue": "name 'PowerSocket' is not defined",
     "output_type": "error",
     "traceback": [
      "\u001b[1;31m---------------------------------------------------------------------------\u001b[0m",
      "\u001b[1;31mNameError\u001b[0m                                 Traceback (most recent call last)",
      "\u001b[1;32m<ipython-input-3-a67fef818ab9>\u001b[0m in \u001b[0;36m<module>\u001b[1;34m\u001b[0m\n\u001b[1;32m----> 1\u001b[1;33m \u001b[1;32mclass\u001b[0m \u001b[0mGaussianThompsonSocket\u001b[0m\u001b[1;33m(\u001b[0m \u001b[0mPowerSocket\u001b[0m \u001b[1;33m)\u001b[0m\u001b[1;33m:\u001b[0m\u001b[1;33m\u001b[0m\u001b[1;33m\u001b[0m\u001b[0m\n\u001b[0m\u001b[0;32m      2\u001b[0m     \u001b[1;32mdef\u001b[0m \u001b[0m__init__\u001b[0m\u001b[1;33m(\u001b[0m\u001b[0mself\u001b[0m\u001b[1;33m,\u001b[0m \u001b[0mq\u001b[0m\u001b[1;33m)\u001b[0m\u001b[1;33m:\u001b[0m\u001b[1;33m\u001b[0m\u001b[1;33m\u001b[0m\u001b[0m\n\u001b[0;32m      3\u001b[0m \u001b[1;33m\u001b[0m\u001b[0m\n\u001b[0;32m      4\u001b[0m         \u001b[0mself\u001b[0m\u001b[1;33m.\u001b[0m\u001b[0mτ_0\u001b[0m \u001b[1;33m=\u001b[0m \u001b[1;36m0.0001\u001b[0m  \u001b[1;31m# the posterior precision\u001b[0m\u001b[1;33m\u001b[0m\u001b[1;33m\u001b[0m\u001b[0m\n\u001b[0;32m      5\u001b[0m         \u001b[0mself\u001b[0m\u001b[1;33m.\u001b[0m\u001b[0mμ_0\u001b[0m \u001b[1;33m=\u001b[0m \u001b[1;36m1\u001b[0m       \u001b[1;31m# the posterior mean\u001b[0m\u001b[1;33m\u001b[0m\u001b[1;33m\u001b[0m\u001b[0m\n",
      "\u001b[1;31mNameError\u001b[0m: name 'PowerSocket' is not defined"
     ]
    }
   ],
   "source": [
    "class GaussianThompsonSocket( PowerSocket ):\n",
    "    def __init__(self, q):                \n",
    "                \n",
    "        self.τ_0 = 0.0001  # the posterior precision\n",
    "        self.μ_0 = 1       # the posterior mean\n",
    "        \n",
    "        # pass the true reward value to the base PowerSocket             \n",
    "        super().__init__(q)         \n",
    "        \n",
    "    def sample(self):\n",
    "        \"\"\" return a value from the the posterior normal distribution \"\"\"\n",
    "        return (np.random.randn() / np.sqrt(self.τ_0)) + self.μ_0    \n",
    "                    \n",
    "    def update(self,R):\n",
    "        \"\"\" update this socket after it has returned reward value 'R' \"\"\"   \n",
    "\n",
    "        # do a standard update of the estimated mean\n",
    "        super().update(R)    \n",
    "               \n",
    "        # update the mean and precision of the posterior\n",
    "        self.μ_0 = ((self.τ_0 * self.μ_0) + (self.n * self.Q))/(self.τ_0 + self.n)        \n",
    "        self.τ_0 += 1"
   ]
  },
  {
   "cell_type": "code",
   "execution_count": 1,
   "metadata": {},
   "outputs": [
    {
     "ename": "NameError",
     "evalue": "name 'arms' is not defined",
     "output_type": "error",
     "traceback": [
      "\u001b[1;31m---------------------------------------------------------------------------\u001b[0m",
      "\u001b[1;31mNameError\u001b[0m                                 Traceback (most recent call last)",
      "\u001b[1;32m<ipython-input-1-ab691530d6bf>\u001b[0m in \u001b[0;36m<module>\u001b[1;34m\u001b[0m\n\u001b[0;32m      1\u001b[0m \u001b[1;31m# maga=0\u001b[0m\u001b[1;33m\u001b[0m\u001b[1;33m\u001b[0m\u001b[1;33m\u001b[0m\u001b[0m\n\u001b[0;32m      2\u001b[0m \u001b[1;31m# for i in range(10000):\u001b[0m\u001b[1;33m\u001b[0m\u001b[1;33m\u001b[0m\u001b[1;33m\u001b[0m\u001b[0m\n\u001b[1;32m----> 3\u001b[1;33m \u001b[0marm\u001b[0m\u001b[1;33m=\u001b[0m\u001b[0marms\u001b[0m\u001b[1;33m(\u001b[0m\u001b[1;36m0.1\u001b[0m\u001b[1;33m,\u001b[0m\u001b[1;36m10000\u001b[0m\u001b[1;33m)\u001b[0m\u001b[1;33m\u001b[0m\u001b[1;33m\u001b[0m\u001b[0m\n\u001b[0m\u001b[0;32m      4\u001b[0m \u001b[1;31m# plt.plot(arand(10000,arm))\u001b[0m\u001b[1;33m\u001b[0m\u001b[1;33m\u001b[0m\u001b[1;33m\u001b[0m\u001b[0m\n\u001b[0;32m      5\u001b[0m \u001b[0mplt\u001b[0m\u001b[1;33m.\u001b[0m\u001b[0mplot\u001b[0m\u001b[1;33m(\u001b[0m\u001b[0mGETC0\u001b[0m\u001b[1;33m(\u001b[0m\u001b[1;36m0.1\u001b[0m\u001b[1;33m,\u001b[0m\u001b[1;36m10000\u001b[0m\u001b[1;33m,\u001b[0m\u001b[0marm\u001b[0m\u001b[1;33m)\u001b[0m\u001b[1;33m)\u001b[0m\u001b[1;33m\u001b[0m\u001b[1;33m\u001b[0m\u001b[0m\n",
      "\u001b[1;31mNameError\u001b[0m: name 'arms' is not defined"
     ]
    }
   ],
   "source": [
    "# maga=0\n",
    "# for i in range(10000):\n",
    "arm=arms(0.1,10000)\n",
    "# plt.plot(arand(10000,arm))\n",
    "plt.plot(GETC0(0.1,10000,arm))\n"
   ]
  },
  {
   "cell_type": "code",
   "execution_count": null,
   "metadata": {},
   "outputs": [],
   "source": [
    "full_bandits.count1"
   ]
  },
  {
   "cell_type": "code",
   "execution_count": null,
   "metadata": {},
   "outputs": [
    {
     "name": "stderr",
     "output_type": "stream",
     "text": [
      "  9%|███████▍                                                                          | 9/100 [00:10<01:47,  1.18s/it]"
     ]
    }
   ],
   "source": [
    "from tqdm import tqdm\n",
    "medianu=[0 for i in range (10000)]\n",
    "maxiu=[0 for i in range(10000)]\n",
    "miniu=[0 for i in range(10000)]\n",
    "medianr=[0 for i in range (10000)]\n",
    "itera=100\n",
    "for i in tqdm(range(itera)):\n",
    "    arm=arms(0.1,10000)\n",
    "    reg=GETC0(0.1,10000,arm)\n",
    "    med=arand(10000,arm)\n",
    "    for j in range(10000):\n",
    "#         print(medianu,reg)\n",
    "        medianu[j]+=reg[j]\n",
    "        medianr[j]+=med[j]\n",
    "        if reg[j]>maxiu[j]:\n",
    "            maxiu[j]=reg[j]\n",
    "        if reg[j]<miniu[j]:\n",
    "            miniu=reg\n",
    "\n",
    "for i in range(10000):\n",
    "    medianu[i]=medianu[i]/itera\n",
    "    medianr[i]=medianu[r]/itera\n",
    "        "
   ]
  },
  {
   "cell_type": "markdown",
   "metadata": {},
   "source": [
    "plot(median)"
   ]
  },
  {
   "cell_type": "code",
   "execution_count": null,
   "metadata": {},
   "outputs": [],
   "source": [
    "plt.plot(maxiu)"
   ]
  },
  {
   "cell_type": "code",
   "execution_count": null,
   "metadata": {},
   "outputs": [],
   "source": [
    "medianu[9000]"
   ]
  },
  {
   "cell_type": "code",
   "execution_count": null,
   "metadata": {},
   "outputs": [],
   "source": [
    "from tqdm import tqdm\n",
    "median=[0 for i in range (1000)]\n",
    "maxi=[0 for i in range(1000)]\n",
    "mini=[0 for i in range(1000)]\n",
    "itera=10000\n",
    "for i in tqdm(range(itera)):\n",
    "    arm=arms(0.1,1000)\n",
    "    reg=GETC0(0.1,1000,arm)\n",
    "    median+=reg\n",
    "    if reg>maxi:\n",
    "        maxi=reg\n",
    "    elif reg<miniu:\n",
    "        miniu=reg\n",
    "\n",
    "medianu=medianu/itera\n",
    "        "
   ]
  },
  {
   "cell_type": "code",
   "execution_count": null,
   "metadata": {},
   "outputs": [],
   "source": [
    "medianu"
   ]
  },
  {
   "cell_type": "code",
   "execution_count": null,
   "metadata": {},
   "outputs": [],
   "source": [
    "maxiu"
   ]
  },
  {
   "cell_type": "code",
   "execution_count": null,
   "metadata": {},
   "outputs": [],
   "source": [
    "# def GETC(delta,T=1000):\n",
    "#     loss=0\n",
    "#     known_loss1=0\n",
    "#     known_loss2=0\n",
    "#     arm=arms(delta,T)\n",
    "#     known_bandits=newbandits()\n",
    "#     full_bandits=bandits()\n",
    "#     m=optimalGETC(T,delta)\n",
    "#     chk=0\n",
    "#     for t in range(1,T+1):\n",
    "#         lossvec=arm.getloss(t)\n",
    "#         fullloss1-=lossvec[0]\n",
    "#         loss2-=lossvec[1]\n",
    "#         full_bandits.fullupdate(lossvec)\n",
    "#         if t<=2:#m multiplied by number of arms\n",
    "#             i=t\n",
    "#             loss-=lossvec[i-1]\n",
    "#             known_bandits.update(lossvec[i-1],i,t)\n",
    "            \n",
    "            \n",
    "#         else:#t>mK\n",
    "#             if chk==0:\n",
    "#                 i=np.argmax(known_bandits.returnarm())+1\n",
    "#                 chk=1\n",
    "#                 print(known_bandits.returnarm())\n",
    "#             #print(i)\n",
    "#             loss-=lossvec[i-1]\n",
    "#             known_bandits.update(lossvec[i-1],i)\n",
    "#     print(i) \n",
    "#     print(known_bandits.returnarm())\n",
    "#     print([loss1,loss2,loss])\n",
    "#     print(full_bandits.returnarm())\n",
    "#     regret=np.amax([loss1,loss2])-loss\n",
    "#     return regret\n",
    "            \n",
    "        \n",
    "        \n",
    "        \n",
    "    "
   ]
  },
  {
   "cell_type": "code",
   "execution_count": null,
   "metadata": {},
   "outputs": [],
   "source": [
    "ban.update(2,1)"
   ]
  },
  {
   "cell_type": "code",
   "execution_count": null,
   "metadata": {},
   "outputs": [],
   "source": [
    "ban.update(1,2)"
   ]
  },
  {
   "cell_type": "code",
   "execution_count": null,
   "metadata": {},
   "outputs": [],
   "source": [
    "ban.returnarm()"
   ]
  }
 ],
 "metadata": {
  "kernelspec": {
   "display_name": "Python 3",
   "language": "python",
   "name": "python3"
  },
  "language_info": {
   "codemirror_mode": {
    "name": "ipython",
    "version": 3
   },
   "file_extension": ".py",
   "mimetype": "text/x-python",
   "name": "python",
   "nbconvert_exporter": "python",
   "pygments_lexer": "ipython3",
   "version": "3.8.5"
  }
 },
 "nbformat": 4,
 "nbformat_minor": 4
}
