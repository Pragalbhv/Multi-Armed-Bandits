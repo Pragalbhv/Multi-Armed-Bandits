{
 "cells": [
  {
   "cell_type": "code",
   "execution_count": 24,
   "metadata": {},
   "outputs": [],
   "source": [
    "import matplotlib.pyplot as plt\n",
    "import numpy as np\n",
    "import math\n",
    "from numpy import random"
   ]
  },
  {
   "cell_type": "code",
   "execution_count": 7,
   "metadata": {},
   "outputs": [],
   "source": [
    "class arms:\n",
    "    def __init__(me,delta,T):\n",
    "        me.arm1=random.normal(loc=0, scale=1, size=T)\n",
    "        me.arm2=random.normal(loc=delta, scale=1, size=T)\n",
    "        \n",
    "    def getarms(me):\n",
    "        return [me.arm1,me.arm2]\n",
    "    def getrew(me, it):\n",
    "        return [me.arm1[it],me.arm2[it]]"
   ]
  },
  {
   "cell_type": "code",
   "execution_count": 8,
   "metadata": {},
   "outputs": [],
   "source": [
    "class armsnew:\n",
    "    def __init__(me,scalea,delta=0.1,T=1000):\n",
    "        me.arm1=random.normal(loc=0, scale=scalea, size=T)\n",
    "        me.arm2=random.normal(loc=delta, scale=scalea, size=T)\n",
    "        \n",
    "    def getarms(me):\n",
    "        return [me.arm1,me.arm2]\n",
    "    def getrew(me, it):\n",
    "        return [me.arm1[it],me.arm2[it]]"
   ]
  },
  {
   "cell_type": "code",
   "execution_count": 17,
   "metadata": {},
   "outputs": [],
   "source": [
    "class bandits:\n",
    "    def __init__(me):\n",
    "        me.mean1=0\n",
    "        me.count1=0\n",
    "        me.mean2=0\n",
    "        me.count2=0\n",
    "    \n",
    "    def update(me,reward,arm):\n",
    "        if arm==1:\n",
    "            updt= me.mean1*me.count1+reward\n",
    "            me.count1+=1\n",
    "            me.mean1=updt/me.count1\n",
    "        elif arm==2: \n",
    "            updt= me.mean1*me.count2+reward\n",
    "            me.count2+=1\n",
    "            me.mean2=updt/me.count2\n",
    "        else:\n",
    "            pass\n",
    "            \n",
    "    def fullupdate(me,rewardvec):\n",
    "        me.update(rewardvec[0],1)\n",
    "        me.udpdate(rewardvec[1],2)\n",
    "        \n",
    "    def returnarm(me):\n",
    "        return me.mean1, me.mean2"
   ]
  },
  {
   "cell_type": "markdown",
   "metadata": {},
   "source": [
    "OPTIMAL T0 TAKING DELTA AND T"
   ]
  },
  {
   "cell_type": "code",
   "execution_count": 51,
   "metadata": {},
   "outputs": [],
   "source": [
    "\n",
    "\n",
    "#_____________________________________\n",
    "def optimalGETC(T,delta):\n",
    "    answer=4/(delta**2)*math.log(T*delta**2/4)\n",
    "    answer=math.ceil(answer)\n",
    "    return answer"
   ]
  },
  {
   "cell_type": "code",
   "execution_count": 44,
   "metadata": {},
   "outputs": [
    {
     "data": {
      "text/plain": [
       "367"
      ]
     },
     "execution_count": 44,
     "metadata": {},
     "output_type": "execute_result"
    }
   ],
   "source": [
    "optimalGETC(1000,0.1) "
   ]
  },
  {
   "cell_type": "code",
   "execution_count": 52,
   "metadata": {},
   "outputs": [],
   "source": [
    "def ETC(delta,T=1000):\n",
    "    reward=0\n",
    "    reward1=0\n",
    "    reward2=0\n",
    "    arm=arms(delta,T)\n",
    "    known_bandits=bandits()\n",
    "    full_bandits=bandits()\n",
    "    m=optimalGETC(T,delta)\n",
    "    chk=0\n",
    "    reg=[]\n",
    "    for t in range(T):\n",
    "        rewvec=arm.getrew(t)\n",
    "        reward1+=rewvec[0]\n",
    "        reward2+=rewvec[1]\n",
    "#         full_bandits.fullupdate(rewvec)\n",
    "        if t<=2*m:#m multiplied by number of arms\n",
    "            i=t%2+1\n",
    "            reward+=rewvec[i-1]\n",
    "            known_bandits.update(rewvec[i-1],i)\n",
    "            regret=np.amax([reward1,reward2]) -reward\n",
    "            reg.append(regret)\n",
    "        else:#t>mK\n",
    "            if chk==0:\n",
    "                i=np.argmax(known_bandits.returnarm())+1\n",
    "                chk=1\n",
    "            #print(i)\n",
    "            reward+=rewvec[i-1]\n",
    "            known_bandits.update(rewvec[i-1],i)\n",
    "            regret=np.amax([reward1,reward2]) -reward\n",
    "            reg.append(regret)\n",
    "    print(i) \n",
    "    \n",
    "    print(known_bandits.returnarm())\n",
    "    print([reward1,reward2,reward])\n",
    "    regret=np.amax([reward1,reward2]) -reward\n",
    "    return regret\n",
    "            \n",
    "        \n",
    "        \n",
    "        \n",
    "    "
   ]
  },
  {
   "cell_type": "markdown",
   "metadata": {},
   "source": [
    "ETC used Finally"
   ]
  },
  {
   "cell_type": "code",
   "execution_count": null,
   "metadata": {},
   "outputs": [],
   "source": [
    "\n",
    "\n",
    "def ETC0(arms,T=1000,T_o=367):# added arms, to keep arms constant b/w rounds!\n",
    "    reward=0\n",
    "    reward1=0\n",
    "    reward2=0\n",
    "    arm=arms\n",
    "    known_bandits=bandits()\n",
    "    full_bandits=bandits()\n",
    "    m=T_o/2\n",
    "    chk=0\n",
    "    reg=[]\n",
    "    for t in range(T):\n",
    "        rewvec=arm.getrew(t)\n",
    "        reward1+=rewvec[0]\n",
    "        reward2+=rewvec[1]\n",
    "#         full_bandits.fullupdate(rewvec)\n",
    "        if t<=2*m:#m multiplied by number of arms\n",
    "            i=t%2+1\n",
    "            reward+=rewvec[i-1]\n",
    "            known_bandits.update(rewvec[i-1],i)\n",
    "            regret=np.amax([reward1,reward2]) -reward\n",
    "            reg.append(regret)\n",
    "        else:#t>mK\n",
    "            if chk==0:\n",
    "                i=np.argmax(known_bandits.returnarm())+1\n",
    "                chk=1\n",
    "            #print(i)\n",
    "            reward+=rewvec[i-1]\n",
    "            known_bandits.update(rewvec[i-1],i)\n",
    "            regret=np.amax([reward1,reward2]) -reward\n",
    "            reg.append(regret)\n",
    "#     print(i) \n",
    "#     print(known_bandits.returnarm())\n",
    "#     print([reward1,reward2,reward])\n",
    "#     regret=np.amax([reward1,reward2]) -reward\n",
    "    return reg\n",
    "            \n",
    "        \n",
    "        \n",
    "        \n",
    "    "
   ]
  },
  {
   "cell_type": "code",
   "execution_count": 50,
   "metadata": {
    "collapsed": true
   },
   "outputs": [
    {
     "name": "stderr",
     "output_type": "stream",
     "text": [
      " 40%|█████████████████████████████████▏                                                 | 4/10 [00:58<01:27, 14.65s/it]\n"
     ]
    },
    {
     "ename": "KeyboardInterrupt",
     "evalue": "",
     "output_type": "error",
     "traceback": [
      "\u001b[1;31m---------------------------------------------------------------------------\u001b[0m",
      "\u001b[1;31mKeyboardInterrupt\u001b[0m                         Traceback (most recent call last)",
      "\u001b[1;32m<ipython-input-50-9c4bc3cdcde9>\u001b[0m in \u001b[0;36m<module>\u001b[1;34m\u001b[0m\n\u001b[0;32m      5\u001b[0m     \u001b[1;32mfor\u001b[0m \u001b[0mj\u001b[0m \u001b[1;32min\u001b[0m \u001b[0mrange\u001b[0m \u001b[1;33m(\u001b[0m\u001b[1;36m1000\u001b[0m\u001b[1;33m)\u001b[0m\u001b[1;33m:\u001b[0m\u001b[1;33m\u001b[0m\u001b[1;33m\u001b[0m\u001b[0m\n\u001b[0;32m      6\u001b[0m         \u001b[0marma\u001b[0m\u001b[1;33m=\u001b[0m\u001b[0marmsnew\u001b[0m\u001b[1;33m(\u001b[0m\u001b[0mi\u001b[0m\u001b[1;33m)\u001b[0m\u001b[1;33m\u001b[0m\u001b[1;33m\u001b[0m\u001b[0m\n\u001b[1;32m----> 7\u001b[1;33m         \u001b[0msee\u001b[0m\u001b[1;33m+=\u001b[0m\u001b[0mnp\u001b[0m\u001b[1;33m.\u001b[0m\u001b[0marray\u001b[0m\u001b[1;33m(\u001b[0m\u001b[0mETC0\u001b[0m\u001b[1;33m(\u001b[0m\u001b[0marma\u001b[0m\u001b[1;33m,\u001b[0m\u001b[1;36m1000\u001b[0m\u001b[1;33m,\u001b[0m\u001b[0mi\u001b[0m\u001b[1;33m*\u001b[0m\u001b[0moptimalGETC\u001b[0m\u001b[1;33m(\u001b[0m\u001b[1;36m0.1\u001b[0m\u001b[1;33m,\u001b[0m\u001b[1;36m1000\u001b[0m\u001b[1;33m)\u001b[0m\u001b[1;33m)\u001b[0m\u001b[1;33m)\u001b[0m\u001b[1;33m\u001b[0m\u001b[1;33m\u001b[0m\u001b[0m\n\u001b[0m\u001b[0;32m      8\u001b[0m     \u001b[0msee\u001b[0m\u001b[1;33m=\u001b[0m\u001b[0msee\u001b[0m\u001b[1;33m/\u001b[0m\u001b[1;36m1000\u001b[0m\u001b[1;33m\u001b[0m\u001b[1;33m\u001b[0m\u001b[0m\n\u001b[0;32m      9\u001b[0m     \u001b[0mplt\u001b[0m\u001b[1;33m.\u001b[0m\u001b[0mplot\u001b[0m\u001b[1;33m(\u001b[0m\u001b[0msee\u001b[0m\u001b[1;33m,\u001b[0m\u001b[0mlabel\u001b[0m\u001b[1;33m=\u001b[0m\u001b[1;34m'ETC with sig^2= '\u001b[0m\u001b[1;33m+\u001b[0m\u001b[0mstr\u001b[0m\u001b[1;33m(\u001b[0m\u001b[0mi\u001b[0m\u001b[1;33m)\u001b[0m\u001b[1;33m)\u001b[0m\u001b[1;33m\u001b[0m\u001b[1;33m\u001b[0m\u001b[0m\n",
      "\u001b[1;32m<ipython-input-48-b9dd728a9b68>\u001b[0m in \u001b[0;36mETC0\u001b[1;34m(arms, T, T_o)\u001b[0m\n\u001b[0;32m     27\u001b[0m             \u001b[0mreward\u001b[0m\u001b[1;33m+=\u001b[0m\u001b[0mrewvec\u001b[0m\u001b[1;33m[\u001b[0m\u001b[0mi\u001b[0m\u001b[1;33m-\u001b[0m\u001b[1;36m1\u001b[0m\u001b[1;33m]\u001b[0m\u001b[1;33m\u001b[0m\u001b[1;33m\u001b[0m\u001b[0m\n\u001b[0;32m     28\u001b[0m             \u001b[0mknown_bandits\u001b[0m\u001b[1;33m.\u001b[0m\u001b[0mupdate\u001b[0m\u001b[1;33m(\u001b[0m\u001b[0mrewvec\u001b[0m\u001b[1;33m[\u001b[0m\u001b[0mi\u001b[0m\u001b[1;33m-\u001b[0m\u001b[1;36m1\u001b[0m\u001b[1;33m]\u001b[0m\u001b[1;33m,\u001b[0m\u001b[0mi\u001b[0m\u001b[1;33m)\u001b[0m\u001b[1;33m\u001b[0m\u001b[1;33m\u001b[0m\u001b[0m\n\u001b[1;32m---> 29\u001b[1;33m             \u001b[0mregret\u001b[0m\u001b[1;33m=\u001b[0m\u001b[0mnp\u001b[0m\u001b[1;33m.\u001b[0m\u001b[0mamax\u001b[0m\u001b[1;33m(\u001b[0m\u001b[1;33m[\u001b[0m\u001b[0mreward1\u001b[0m\u001b[1;33m,\u001b[0m\u001b[0mreward2\u001b[0m\u001b[1;33m]\u001b[0m\u001b[1;33m)\u001b[0m \u001b[1;33m-\u001b[0m\u001b[0mreward\u001b[0m\u001b[1;33m\u001b[0m\u001b[1;33m\u001b[0m\u001b[0m\n\u001b[0m\u001b[0;32m     30\u001b[0m             \u001b[0mreg\u001b[0m\u001b[1;33m.\u001b[0m\u001b[0mappend\u001b[0m\u001b[1;33m(\u001b[0m\u001b[0mregret\u001b[0m\u001b[1;33m)\u001b[0m\u001b[1;33m\u001b[0m\u001b[1;33m\u001b[0m\u001b[0m\n\u001b[0;32m     31\u001b[0m \u001b[1;31m#     print(i)\u001b[0m\u001b[1;33m\u001b[0m\u001b[1;33m\u001b[0m\u001b[1;33m\u001b[0m\u001b[0m\n",
      "\u001b[1;32m<__array_function__ internals>\u001b[0m in \u001b[0;36mamax\u001b[1;34m(*args, **kwargs)\u001b[0m\n",
      "\u001b[1;32mC:\\ProgramData\\Anaconda3\\lib\\site-packages\\numpy\\core\\fromnumeric.py\u001b[0m in \u001b[0;36mamax\u001b[1;34m(a, axis, out, keepdims, initial, where)\u001b[0m\n\u001b[0;32m   2703\u001b[0m     \u001b[1;36m5\u001b[0m\u001b[1;33m\u001b[0m\u001b[1;33m\u001b[0m\u001b[0m\n\u001b[0;32m   2704\u001b[0m     \"\"\"\n\u001b[1;32m-> 2705\u001b[1;33m     return _wrapreduction(a, np.maximum, 'max', axis, None, out,\n\u001b[0m\u001b[0;32m   2706\u001b[0m                           keepdims=keepdims, initial=initial, where=where)\n\u001b[0;32m   2707\u001b[0m \u001b[1;33m\u001b[0m\u001b[0m\n",
      "\u001b[1;32mC:\\ProgramData\\Anaconda3\\lib\\site-packages\\numpy\\core\\fromnumeric.py\u001b[0m in \u001b[0;36m_wrapreduction\u001b[1;34m(obj, ufunc, method, axis, dtype, out, **kwargs)\u001b[0m\n\u001b[0;32m     85\u001b[0m                 \u001b[1;32mreturn\u001b[0m \u001b[0mreduction\u001b[0m\u001b[1;33m(\u001b[0m\u001b[0maxis\u001b[0m\u001b[1;33m=\u001b[0m\u001b[0maxis\u001b[0m\u001b[1;33m,\u001b[0m \u001b[0mout\u001b[0m\u001b[1;33m=\u001b[0m\u001b[0mout\u001b[0m\u001b[1;33m,\u001b[0m \u001b[1;33m**\u001b[0m\u001b[0mpasskwargs\u001b[0m\u001b[1;33m)\u001b[0m\u001b[1;33m\u001b[0m\u001b[1;33m\u001b[0m\u001b[0m\n\u001b[0;32m     86\u001b[0m \u001b[1;33m\u001b[0m\u001b[0m\n\u001b[1;32m---> 87\u001b[1;33m     \u001b[1;32mreturn\u001b[0m \u001b[0mufunc\u001b[0m\u001b[1;33m.\u001b[0m\u001b[0mreduce\u001b[0m\u001b[1;33m(\u001b[0m\u001b[0mobj\u001b[0m\u001b[1;33m,\u001b[0m \u001b[0maxis\u001b[0m\u001b[1;33m,\u001b[0m \u001b[0mdtype\u001b[0m\u001b[1;33m,\u001b[0m \u001b[0mout\u001b[0m\u001b[1;33m,\u001b[0m \u001b[1;33m**\u001b[0m\u001b[0mpasskwargs\u001b[0m\u001b[1;33m)\u001b[0m\u001b[1;33m\u001b[0m\u001b[1;33m\u001b[0m\u001b[0m\n\u001b[0m\u001b[0;32m     88\u001b[0m \u001b[1;33m\u001b[0m\u001b[0m\n\u001b[0;32m     89\u001b[0m \u001b[1;33m\u001b[0m\u001b[0m\n",
      "\u001b[1;31mKeyboardInterrupt\u001b[0m: "
     ]
    },
    {
     "data": {
      "image/png": "[encoded data removed]",
      "text/plain": [
       "<Figure size 432x288 with 1 Axes>"
      ]
     },
     "metadata": {
      "needs_background": "light"
     },
     "output_type": "display_data"
    }
   ],
   "source": [
    "from tqdm import tqdm\n",
    "median=[0 for i in range(1000)]\n",
    "maxi=[-22 for i in range(1000)]\n",
    "mini=[22 for i in range(1000)]\n",
    "for i in tqdm(range(1000)):\n",
    "    arm=arms(0.1,1000)\n",
    "    for j in range (10000):\n",
    "        reg=GETC0(0.1,1000,i,arm)\n",
    "        median[i]+=reg\n",
    "        if reg>maxi[i]:\n",
    "            maxi[i]=reg\n",
    "        elif reg<mini[i]:\n",
    "            mini[i]=reg\n",
    "\n",
    "    median[i]=median[i]/1000\n",
    "        "
   ]
  },
  {
   "cell_type": "markdown",
   "metadata": {},
   "source": [
    "Pickle to store data for 10,000 iter. as it took 15 hrs to RUN!!!!"
   ]
  },
  {
   "cell_type": "code",
   "execution_count": 176,
   "metadata": {},
   "outputs": [],
   "source": [
    "# import pickle\n",
    "# filename = 'median'\n",
    "# outfile = open(filename,'wb')\n",
    "# pickle.dump(median,outfile)\n",
    "# outfile.close()"
   ]
  },
  {
   "cell_type": "code",
   "execution_count": 37,
   "metadata": {},
   "outputs": [],
   "source": [
    "# import pickle\n",
    "# file = open(\"median\",'rb')\n",
    "\n",
    "# median=pickle.load(file)"
   ]
  },
  {
   "cell_type": "code",
   "execution_count": 26,
   "metadata": {},
   "outputs": [],
   "source": [
    "# print(median)"
   ]
  },
  {
   "cell_type": "code",
   "execution_count": 38,
   "metadata": {},
   "outputs": [],
   "source": [
    "# file1 = open(\"maxi\",'rb')\n",
    "# file2 = open(\"mini\",'rb')\n",
    "# maxi=pickle.load(file1)\n",
    "# mini=pickle.load(file2)\n"
   ]
  },
  {
   "cell_type": "code",
   "execution_count": 265,
   "metadata": {},
   "outputs": [
    {
     "data": {
      "image/png": "[encoded data removed]",
      "text/plain": [
       "<Figure size 432x288 with 1 Axes>"
      ]
     },
     "metadata": {
      "needs_background": "light"
     },
     "output_type": "display_data"
    }
   ],
   "source": [
    "import matplotlib.pyplot as plt\n",
    "eta1=0\n",
    "plt.plot(median,label='Mean')\n",
    "# plt.plot(maxi,label='FTPL with eta='+str(eta1*10))\n",
    "# plt.plot(mini,label='FTPL with eta='+str(eta1*100))\n",
    "# plt.plot(p4_r,label='FTPL with eta='+str(eta1/10))\n",
    "# plt.plot(p5_r,label='FTPL with eta='+str(eta1/100))\n",
    "plt.title(\"Explore then commit:- Regret Plot\")\n",
    "plt.xlabel('To turning point')\n",
    "plt.ylabel('Final Regret')\n",
    "\n",
    "plt.legend(loc='best')\n",
    "plt.show()"
   ]
  },
  {
   "cell_type": "code",
   "execution_count": 266,
   "metadata": {},
   "outputs": [
    {
     "data": {
      "text/plain": [
       "1000"
      ]
     },
     "execution_count": 266,
     "metadata": {},
     "output_type": "execute_result"
    }
   ],
   "source": [
    "len(median)"
   ]
  },
  {
   "cell_type": "code",
   "execution_count": 40,
   "metadata": {},
   "outputs": [
    {
     "data": {
      "image/png": "[encoded data removed]",
      "text/plain": [
       "<Figure size 432x288 with 1 Axes>"
      ]
     },
     "metadata": {
      "needs_background": "light"
     },
     "output_type": "display_data"
    }
   ],
   "source": [
    "import numpy as np\n",
    "x = np.array(range(1000))\n",
    "yerr=[]\n",
    "errmax=[0 for i in range(1000)]\n",
    "errmin=[0 for i in range(1000)]\n",
    "for i in range(1000):\n",
    "    if i%10==0:\n",
    "        yerr.append([median[i] - mini[i], maxi[i] - median[i]]) \n",
    "    else:\n",
    "        yerr.append([0,0])\n",
    "#         errmax[i]= maxi[i]\n",
    "#         errmin[i]=mini[i]\n",
    "# plt.plot(errmin)\n",
    "yerr = np.transpose(yerr)\n",
    "plt.errorbar( x, median, yerr, ecolor=['red'], )\n",
    "# plt.show()\n",
    "plt.xlabel('To turning point')\n",
    "plt.ylabel('Final Regret')\n",
    "plt.title(\"ETC regret with error bounds\")\n",
    "# plt.legend(loc='best')\n",
    "plt.show()"
   ]
  }
 ],
 "metadata": {
  "kernelspec": {
   "display_name": "Python 3",
   "language": "python",
   "name": "python3"
  },
  "language_info": {
   "codemirror_mode": {
    "name": "ipython",
    "version": 3
   },
   "file_extension": ".py",
   "mimetype": "text/x-python",
   "name": "python",
   "nbconvert_exporter": "python",
   "pygments_lexer": "ipython3",
   "version": "3.8.5"
  }
 },
 "nbformat": 4,
 "nbformat_minor": 4
}
