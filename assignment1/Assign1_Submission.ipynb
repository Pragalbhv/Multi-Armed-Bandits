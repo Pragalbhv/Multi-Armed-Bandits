{
 "cells": [
  {
   "cell_type": "markdown",
   "metadata": {},
   "source": [
    "# Cats and Dogs:- MAB assignment 1"
   ]
  },
  {
   "cell_type": "markdown",
   "metadata": {},
   "source": [
    "Below is cat dog result. will be used by adversary and our algo.\n",
    "The words will be treated as experts, one true expert is there"
   ]
  },
  {
   "cell_type": "code",
   "execution_count": 1,
   "metadata": {},
   "outputs": [],
   "source": [
    "import functools\n",
    "@functools.lru_cache(maxsize=1280000)# for memoizing for easy retrival\n",
    "def cd(s1,s2):\n",
    "    dog=0\n",
    "    cat=0\n",
    "    ######################################\n",
    "    def common(str1,str2):\n",
    "        res =[]\n",
    "        i=0\n",
    "        for char in str1:              \n",
    "            if char not in str2:\n",
    "                continue\n",
    "            else:\n",
    "                str2 = str2.replace(char, '', 1)\n",
    "                i+=1\n",
    "#                 print(char)\n",
    "                    \n",
    "        return i\n",
    "    #########################################\n",
    "    set1=set()\n",
    "    for i in range(len(s1)):\n",
    "        if s1[i]==s2[i]:\n",
    "            dog+=1\n",
    "    cat=common(s1,s2)-dog\n",
    "    stri=str(cat)+\"C \"+str(dog)+\"D\"\n",
    "    return stri"
   ]
  },
  {
   "cell_type": "code",
   "execution_count": 2,
   "metadata": {},
   "outputs": [],
   "source": [
    "def return_dataset():\n",
    "    dataset=[]\n",
    "    import csv\n",
    "    with open('data.csv') as csvfile:\n",
    "        reader = csv.reader(csvfile, delimiter=' ') #, quotechar='|')\n",
    "        for row in reader:\n",
    "            for j in range(len(row)):\n",
    "                dataset.append(row[j])\n",
    "    return dataset\n",
    "                "
   ]
  },
  {
   "cell_type": "code",
   "execution_count": 3,
   "metadata": {},
   "outputs": [],
   "source": [
    "dataset_full=return_dataset()"
   ]
  },
  {
   "cell_type": "code",
   "execution_count": 4,
   "metadata": {},
   "outputs": [],
   "source": [
    "def finalist(datlist):\n",
    "    finalist=[]\n",
    "    for i in range(len(datlist)):\n",
    "        str=datlist[i]\n",
    "        count=0\n",
    "        for j in range(len(str)):\n",
    "            for k in range(j+1,len(str)):\n",
    "                if str[j]==str[k]:\n",
    "                    count=1\n",
    "        if count==0: finalist.append(str)\n",
    "    return(finalist)"
   ]
  },
  {
   "cell_type": "code",
   "execution_count": 5,
   "metadata": {
    "scrolled": true
   },
   "outputs": [],
   "source": [
    "datset=finalist(dataset_full)\n",
    "# datset"
   ]
  },
  {
   "cell_type": "markdown",
   "metadata": {},
   "source": [
    "Each word will be an expert, will produce two bits of output "
   ]
  },
  {
   "cell_type": "markdown",
   "metadata": {},
   "source": [
    "Lessgo bois, we code the majo algo, but first avdversary putter"
   ]
  },
  {
   "cell_type": "code",
   "execution_count": 6,
   "metadata": {},
   "outputs": [],
   "source": [
    "def ldim(word,aset):\n",
    "    count=0\n",
    "    branches=[]\n",
    "    for test in aset:\n",
    "        branch=cd(word,test)\n",
    "        if branch not in branches:\n",
    "            count+=1\n",
    "            branches.append(branch)\n",
    "    return count        "
   ]
  },
  {
   "cell_type": "code",
   "execution_count": 7,
   "metadata": {},
   "outputs": [],
   "source": [
    "\n",
    "def best_choice(aset):\n",
    "    max_branch=0\n",
    "    word=aset[0]# default just in \n",
    "    for test in aset:\n",
    "        count=ldim(test,aset)\n",
    "        if count>max_branch:\n",
    "            word=test\n",
    "            max_branch=count\n",
    "    return word"
   ]
  },
  {
   "cell_type": "code",
   "execution_count": 11,
   "metadata": {},
   "outputs": [],
   "source": [
    "def finalgo():\n",
    "    ################### Base defs#################\n",
    "\n",
    "    def predict(word,aset):\n",
    "         a=[]\n",
    "         for i in aset:\n",
    "            a.append([i,cd(word,i)])\n",
    "         return a\n",
    "    ############################################\n",
    "    #we choose the word that produces \"greatest branching\".\n",
    "    totset=datset\n",
    "    count=0\n",
    "    dictset={}\n",
    "    while totset: \n",
    "#         word=totset[0]\n",
    "        word=best_choice(totset)\n",
    "        #now we find yt predicts\n",
    "        ytot=predict(word,totset)\n",
    "        for i in ytot:#getting yts\n",
    "            y=i[1]\n",
    "            w=i[0]\n",
    "            if y in dictset:\n",
    "                dictset[y].append(w)\n",
    "            else:\n",
    "                dictset[y]=[w]\n",
    "        print(word)\n",
    "        yt=input()\n",
    "        if yt==\"0C 4D\":\n",
    "            return word\n",
    "#             return count\n",
    "        else:\n",
    "            totset=dictset[yt]\n",
    "            count+=1\n",
    "#             tree.append([count,totset])\n",
    "            dictset={}\n",
    "    return \"\"        \n",
    "\n",
    "\n",
    "\n",
    "\n",
    "\n",
    "\n"
   ]
  },
  {
   "cell_type": "code",
   "execution_count": 9,
   "metadata": {},
   "outputs": [
    {
     "name": "stdout",
     "output_type": "stream",
     "text": [
      "ABLE\n",
      "0C 4D\n"
     ]
    },
    {
     "data": {
      "text/plain": [
       "'ABLE'"
      ]
     },
     "execution_count": 9,
     "metadata": {},
     "output_type": "execute_result"
    }
   ],
   "source": [
    "finalgo()"
   ]
  }
 ],
 "metadata": {
  "kernelspec": {
   "display_name": "Python 3",
   "language": "python",
   "name": "python3"
  },
  "language_info": {
   "codemirror_mode": {
    "name": "ipython",
    "version": 3
   },
   "file_extension": ".py",
   "mimetype": "text/x-python",
   "name": "python",
   "nbconvert_exporter": "python",
   "pygments_lexer": "ipython3",
   "version": "3.8.5"
  }
 },
 "nbformat": 4,
 "nbformat_minor": 4
}
