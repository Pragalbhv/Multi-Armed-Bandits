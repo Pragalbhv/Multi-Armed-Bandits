{
 "cells": [
  {
   "cell_type": "markdown",
   "metadata": {},
   "source": [
    "Below is cat dog result. will be used by adversary and our algo.\n",
    "The words will be treated as experts, "
   ]
  },
  {
   "cell_type": "code",
   "execution_count": 1,
   "metadata": {},
   "outputs": [],
   "source": [
    "import functools\n",
    "@functools.lru_cache(maxsize=1280000)\n",
    "def cd(s1,s2):\n",
    "    dog=0\n",
    "    cat=0\n",
    "    ######################################\n",
    "    def common(str1,str2):\n",
    "        res =[]\n",
    "        i=0\n",
    "        for char in str1:              \n",
    "            if char not in str2:\n",
    "                continue\n",
    "            else:\n",
    "                str2 = str2.replace(char, '', 1)\n",
    "                i+=1\n",
    "#                 print(char)\n",
    "                    \n",
    "        return i\n",
    "    #########################################\n",
    "    set1=set()\n",
    "    for i in range(len(s1)):\n",
    "        if s1[i]==s2[i]:\n",
    "            dog+=1\n",
    "    cat=common(s1,s2)-dog\n",
    "    stri=str(cat)+\"C \"+str(dog)+\"D\"\n",
    "    return stri"
   ]
  },
  {
   "cell_type": "code",
   "execution_count": 2,
   "metadata": {},
   "outputs": [],
   "source": [
    "def return_dataset():\n",
    "    dataset=[]\n",
    "    import csv\n",
    "    with open('data.csv') as csvfile:\n",
    "        reader = csv.reader(csvfile, delimiter=' ') #, quotechar='|')\n",
    "        for row in reader:\n",
    "            for j in range(len(row)):\n",
    "                dataset.append(row[j])\n",
    "    return dataset\n",
    "                "
   ]
  },
  {
   "cell_type": "code",
   "execution_count": 3,
   "metadata": {},
   "outputs": [],
   "source": [
    "dataset_full=return_dataset()"
   ]
  },
  {
   "cell_type": "code",
   "execution_count": 4,
   "metadata": {},
   "outputs": [],
   "source": [
    "def finalist(datlist):\n",
    "    finalist=[]\n",
    "    for i in range(len(datlist)):\n",
    "        str=datlist[i]\n",
    "        count=0\n",
    "        for j in range(len(str)):\n",
    "            for k in range(j+1,len(str)):\n",
    "                if str[j]==str[k]:\n",
    "                    count=1\n",
    "        if count==0: finalist.append(str)\n",
    "    return(finalist)"
   ]
  },
  {
   "cell_type": "code",
   "execution_count": 5,
   "metadata": {
    "scrolled": true
   },
   "outputs": [],
   "source": [
    "datset=finalist(dataset_full)\n",
    "# datset"
   ]
  },
  {
   "cell_type": "code",
   "execution_count": 6,
   "metadata": {},
   "outputs": [],
   "source": [
    "# cd('abde','abde')"
   ]
  },
  {
   "cell_type": "code",
   "execution_count": 7,
   "metadata": {},
   "outputs": [],
   "source": [
    "#Legacy code...\n",
    "# def common(str1,str2):\n",
    "#         res =[]\n",
    "#         i=0\n",
    "#         for char in str1: \n",
    "#             print([char ,char not in str2])\n",
    "#             if char not in str2:\n",
    "#                 continue\n",
    "#             else:\n",
    "#                 str2 = str2.replace(char, '', 1)\n",
    "#                 i+=1\n",
    "#                 print(char)\n",
    "                    \n",
    "#         return i"
   ]
  },
  {
   "cell_type": "markdown",
   "metadata": {},
   "source": [
    "Each word will be an expert, will produce two bits of output "
   ]
  },
  {
   "cell_type": "code",
   "execution_count": 8,
   "metadata": {},
   "outputs": [],
   "source": [
    "# datset=['ab','ac','ad','ba','bc','bd', 'ca', 'cb','cd','da','db','dc']"
   ]
  },
  {
   "cell_type": "code",
   "execution_count": 9,
   "metadata": {},
   "outputs": [
    {
     "data": {
      "text/plain": [
       "'0C 2D'"
      ]
     },
     "execution_count": 9,
     "metadata": {},
     "output_type": "execute_result"
    }
   ],
   "source": [
    "cd(datset[1],datset[2])"
   ]
  },
  {
   "cell_type": "markdown",
   "metadata": {},
   "source": [
    "Lessgo bois, we code da majo algo, but first avdversary putter"
   ]
  },
  {
   "cell_type": "code",
   "execution_count": 10,
   "metadata": {},
   "outputs": [],
   "source": [
    "def ldim(word,aset):\n",
    "    count=0\n",
    "    branches=[]\n",
    "    for test in aset:\n",
    "        branch=cd(word,test)\n",
    "        if branch not in branches:\n",
    "            count=+1\n",
    "            branches.append(branch)\n",
    "    return count        "
   ]
  },
  {
   "cell_type": "code",
   "execution_count": 35,
   "metadata": {},
   "outputs": [],
   "source": [
    "# import functools\n",
    "# @functools.lru_cache(maxsize=1280000)\n",
    "def best_choice(aset):\n",
    "    max_branch=0\n",
    "    word=aset[0]# default just in \n",
    "    for test in aset:\n",
    "        count=ldim(test,aset)\n",
    "        if count>max_branch:\n",
    "            word=test\n",
    "            max_branch=count\n",
    "    return word"
   ]
  },
  {
   "cell_type": "code",
   "execution_count": 37,
   "metadata": {},
   "outputs": [],
   "source": [
    "import pickle\n",
    "\n",
    "from functools import wraps\n",
    "def memoize(func):\n",
    "    cache = {}\n",
    "    @wraps(func)\n",
    "    def wrap(*args,**kwargs):\n",
    "        key = pickle.dumps((args, kwargs))\n",
    "        if key not in cache:\n",
    "            print ('Running func with ', args)\n",
    "            cache[key] = func(*args, **kwargs)\n",
    "        else:\n",
    "            print ('result in cache')\n",
    "        return cache[key]\n",
    "    return wrap"
   ]
  },
  {
   "cell_type": "code",
   "execution_count": null,
   "metadata": {},
   "outputs": [],
   "source": [
    "m"
   ]
  },
  {
   "cell_type": "code",
   "execution_count": 33,
   "metadata": {},
   "outputs": [],
   "source": [
    "def majoslgo(correct):\n",
    "    ################### Base defs#################\n",
    "    def ytrue(correct,aset):\n",
    "        a=[]\n",
    "        for i in aset:\n",
    "            a.append(cd(correct,i))\n",
    "        return a\n",
    "    def predict(word,aset):\n",
    "         a=[]\n",
    "         for i in aset:\n",
    "            a.append([i,cd(word,i)])\n",
    "         return a\n",
    "    ############################################\n",
    "    #we choose a random word. for noww let it be datset[0]\n",
    "    totset=datset\n",
    "    count=0\n",
    "    dictset={}\n",
    "#     tree=[[0,totset]] #for path use only, comment out in the og program\n",
    "    while totset: #4D for final \n",
    "        word=totset[0]\n",
    "        word=best_choice(totset)\n",
    "        #we select rando word from totset each round. then we predict de ys.\n",
    "        #we choose dict key match de word yt\n",
    "\n",
    "\n",
    "        #now we find yt predicts\n",
    "        ytot=predict(word,totset)\n",
    "        for i in ytot:#getting yts\n",
    "            y=i[1]\n",
    "            w=i[0]\n",
    "            if y in dictset:\n",
    "                dictset[y].append(w)\n",
    "            else:\n",
    "                dictset[y]=[w]\n",
    "        yt=cd(correct,word)#use input in the real algo....\n",
    "        if yt==\"0C 4D\":\n",
    "#             print('no of mistakes:- ', count)\n",
    "#             print(tree)\n",
    "#             return word\n",
    "            return count\n",
    "        else:\n",
    "            totset=dictset[yt]\n",
    "            count+=1\n",
    "#             tree.append([count,totset])\n",
    "            dictset={}\n",
    "    return \"\"        \n",
    "\n",
    "\n",
    "\n",
    "\n",
    "        \n",
    "\n",
    "            "
   ]
  },
  {
   "cell_type": "code",
   "execution_count": 30,
   "metadata": {},
   "outputs": [],
   "source": [
    "def fulllstuff():\n",
    "    A=[]\n",
    "    max_find=0\n",
    "    sum_find=0\n",
    "    count=0\n",
    "    for word in datset:\n",
    "        count+=1\n",
    "        number=majoslgo(word)\n",
    "        A.append([word,number])\n",
    "        sum_find+=number\n",
    "        if max_find<number:\n",
    "            max_find=number\n",
    "            \n",
    "    avg=sum_find/count\n",
    "    print(\"Average be\", avg, \"max be\", max_find)\n",
    "    return A\n",
    "    "
   ]
  },
  {
   "cell_type": "code",
   "execution_count": 34,
   "metadata": {},
   "outputs": [
    {
     "ename": "KeyboardInterrupt",
     "evalue": "",
     "output_type": "error",
     "traceback": [
      "\u001b[1;31m---------------------------------------------------------------------------\u001b[0m",
      "\u001b[1;31mKeyboardInterrupt\u001b[0m                         Traceback (most recent call last)",
      "\u001b[1;32m<ipython-input-34-98eac8bacc05>\u001b[0m in \u001b[0;36m<module>\u001b[1;34m\u001b[0m\n\u001b[1;32m----> 1\u001b[1;33m \u001b[0mfulllstuff\u001b[0m\u001b[1;33m(\u001b[0m\u001b[1;33m)\u001b[0m\u001b[1;33m\u001b[0m\u001b[1;33m\u001b[0m\u001b[0m\n\u001b[0m",
      "\u001b[1;32m<ipython-input-30-ea44804025ac>\u001b[0m in \u001b[0;36mfulllstuff\u001b[1;34m()\u001b[0m\n\u001b[0;32m      6\u001b[0m     \u001b[1;32mfor\u001b[0m \u001b[0mword\u001b[0m \u001b[1;32min\u001b[0m \u001b[0mdatset\u001b[0m\u001b[1;33m:\u001b[0m\u001b[1;33m\u001b[0m\u001b[1;33m\u001b[0m\u001b[0m\n\u001b[0;32m      7\u001b[0m         \u001b[0mcount\u001b[0m\u001b[1;33m+=\u001b[0m\u001b[1;36m1\u001b[0m\u001b[1;33m\u001b[0m\u001b[1;33m\u001b[0m\u001b[0m\n\u001b[1;32m----> 8\u001b[1;33m         \u001b[0mnumber\u001b[0m\u001b[1;33m=\u001b[0m\u001b[0mmajoslgo\u001b[0m\u001b[1;33m(\u001b[0m\u001b[0mword\u001b[0m\u001b[1;33m)\u001b[0m\u001b[1;33m\u001b[0m\u001b[1;33m\u001b[0m\u001b[0m\n\u001b[0m\u001b[0;32m      9\u001b[0m         \u001b[0mA\u001b[0m\u001b[1;33m.\u001b[0m\u001b[0mappend\u001b[0m\u001b[1;33m(\u001b[0m\u001b[1;33m[\u001b[0m\u001b[0mword\u001b[0m\u001b[1;33m,\u001b[0m\u001b[0mnumber\u001b[0m\u001b[1;33m]\u001b[0m\u001b[1;33m)\u001b[0m\u001b[1;33m\u001b[0m\u001b[1;33m\u001b[0m\u001b[0m\n\u001b[0;32m     10\u001b[0m         \u001b[0msum_find\u001b[0m\u001b[1;33m+=\u001b[0m\u001b[0mnumber\u001b[0m\u001b[1;33m\u001b[0m\u001b[1;33m\u001b[0m\u001b[0m\n",
      "\u001b[1;32m<ipython-input-33-89c128a7564b>\u001b[0m in \u001b[0;36mmajoslgo\u001b[1;34m(correct)\u001b[0m\n\u001b[0;32m     19\u001b[0m     \u001b[1;32mwhile\u001b[0m \u001b[0mtotset\u001b[0m\u001b[1;33m:\u001b[0m \u001b[1;31m#4D for final\u001b[0m\u001b[1;33m\u001b[0m\u001b[1;33m\u001b[0m\u001b[0m\n\u001b[0;32m     20\u001b[0m         \u001b[0mword\u001b[0m\u001b[1;33m=\u001b[0m\u001b[0mtotset\u001b[0m\u001b[1;33m[\u001b[0m\u001b[1;36m0\u001b[0m\u001b[1;33m]\u001b[0m\u001b[1;33m\u001b[0m\u001b[1;33m\u001b[0m\u001b[0m\n\u001b[1;32m---> 21\u001b[1;33m         \u001b[0mword\u001b[0m\u001b[1;33m=\u001b[0m\u001b[0mbest_choice\u001b[0m\u001b[1;33m(\u001b[0m\u001b[0mtotset\u001b[0m\u001b[1;33m)\u001b[0m\u001b[1;33m\u001b[0m\u001b[1;33m\u001b[0m\u001b[0m\n\u001b[0m\u001b[0;32m     22\u001b[0m         \u001b[1;31m#we select rando word from totset each round. then we predict de ys.\u001b[0m\u001b[1;33m\u001b[0m\u001b[1;33m\u001b[0m\u001b[1;33m\u001b[0m\u001b[0m\n\u001b[0;32m     23\u001b[0m         \u001b[1;31m#we choose dict key match de word yt\u001b[0m\u001b[1;33m\u001b[0m\u001b[1;33m\u001b[0m\u001b[1;33m\u001b[0m\u001b[0m\n",
      "\u001b[1;32m<ipython-input-23-db39233c2cbf>\u001b[0m in \u001b[0;36mbest_choice\u001b[1;34m(aset)\u001b[0m\n\u001b[0;32m      5\u001b[0m     \u001b[0mword\u001b[0m\u001b[1;33m=\u001b[0m\u001b[0maset\u001b[0m\u001b[1;33m[\u001b[0m\u001b[1;36m0\u001b[0m\u001b[1;33m]\u001b[0m\u001b[1;31m# default just in\u001b[0m\u001b[1;33m\u001b[0m\u001b[1;33m\u001b[0m\u001b[0m\n\u001b[0;32m      6\u001b[0m     \u001b[1;32mfor\u001b[0m \u001b[0mtest\u001b[0m \u001b[1;32min\u001b[0m \u001b[0maset\u001b[0m\u001b[1;33m:\u001b[0m\u001b[1;33m\u001b[0m\u001b[1;33m\u001b[0m\u001b[0m\n\u001b[1;32m----> 7\u001b[1;33m         \u001b[0mcount\u001b[0m\u001b[1;33m=\u001b[0m\u001b[0mldim\u001b[0m\u001b[1;33m(\u001b[0m\u001b[0mtest\u001b[0m\u001b[1;33m,\u001b[0m\u001b[0maset\u001b[0m\u001b[1;33m)\u001b[0m\u001b[1;33m\u001b[0m\u001b[1;33m\u001b[0m\u001b[0m\n\u001b[0m\u001b[0;32m      8\u001b[0m         \u001b[1;32mif\u001b[0m \u001b[0mcount\u001b[0m\u001b[1;33m>\u001b[0m\u001b[0mmax_branch\u001b[0m\u001b[1;33m:\u001b[0m\u001b[1;33m\u001b[0m\u001b[1;33m\u001b[0m\u001b[0m\n\u001b[0;32m      9\u001b[0m             \u001b[0mword\u001b[0m\u001b[1;33m=\u001b[0m\u001b[0mtest\u001b[0m\u001b[1;33m\u001b[0m\u001b[1;33m\u001b[0m\u001b[0m\n",
      "\u001b[1;32m<ipython-input-10-03955ab4286d>\u001b[0m in \u001b[0;36mldim\u001b[1;34m(word, aset)\u001b[0m\n\u001b[0;32m      3\u001b[0m     \u001b[0mbranches\u001b[0m\u001b[1;33m=\u001b[0m\u001b[1;33m[\u001b[0m\u001b[1;33m]\u001b[0m\u001b[1;33m\u001b[0m\u001b[1;33m\u001b[0m\u001b[0m\n\u001b[0;32m      4\u001b[0m     \u001b[1;32mfor\u001b[0m \u001b[0mtest\u001b[0m \u001b[1;32min\u001b[0m \u001b[0maset\u001b[0m\u001b[1;33m:\u001b[0m\u001b[1;33m\u001b[0m\u001b[1;33m\u001b[0m\u001b[0m\n\u001b[1;32m----> 5\u001b[1;33m         \u001b[0mbranch\u001b[0m\u001b[1;33m=\u001b[0m\u001b[0mcd\u001b[0m\u001b[1;33m(\u001b[0m\u001b[0mword\u001b[0m\u001b[1;33m,\u001b[0m\u001b[0mtest\u001b[0m\u001b[1;33m)\u001b[0m\u001b[1;33m\u001b[0m\u001b[1;33m\u001b[0m\u001b[0m\n\u001b[0m\u001b[0;32m      6\u001b[0m         \u001b[1;32mif\u001b[0m \u001b[0mbranch\u001b[0m \u001b[1;32mnot\u001b[0m \u001b[1;32min\u001b[0m \u001b[0mbranches\u001b[0m\u001b[1;33m:\u001b[0m\u001b[1;33m\u001b[0m\u001b[1;33m\u001b[0m\u001b[0m\n\u001b[0;32m      7\u001b[0m             \u001b[0mcount\u001b[0m\u001b[1;33m=\u001b[0m\u001b[1;33m+\u001b[0m\u001b[1;36m1\u001b[0m\u001b[1;33m\u001b[0m\u001b[1;33m\u001b[0m\u001b[0m\n",
      "\u001b[1;32m<ipython-input-1-bd7d72877f27>\u001b[0m in \u001b[0;36mcd\u001b[1;34m(s1, s2)\u001b[0m\n\u001b[0;32m     23\u001b[0m             \u001b[0mdog\u001b[0m\u001b[1;33m+=\u001b[0m\u001b[1;36m1\u001b[0m\u001b[1;33m\u001b[0m\u001b[1;33m\u001b[0m\u001b[0m\n\u001b[0;32m     24\u001b[0m     \u001b[0mcat\u001b[0m\u001b[1;33m=\u001b[0m\u001b[0mcommon\u001b[0m\u001b[1;33m(\u001b[0m\u001b[0ms1\u001b[0m\u001b[1;33m,\u001b[0m\u001b[0ms2\u001b[0m\u001b[1;33m)\u001b[0m\u001b[1;33m-\u001b[0m\u001b[0mdog\u001b[0m\u001b[1;33m\u001b[0m\u001b[1;33m\u001b[0m\u001b[0m\n\u001b[1;32m---> 25\u001b[1;33m     \u001b[0mstri\u001b[0m\u001b[1;33m=\u001b[0m\u001b[0mstr\u001b[0m\u001b[1;33m(\u001b[0m\u001b[0mcat\u001b[0m\u001b[1;33m)\u001b[0m\u001b[1;33m+\u001b[0m\u001b[1;34m\"C \"\u001b[0m\u001b[1;33m+\u001b[0m\u001b[0mstr\u001b[0m\u001b[1;33m(\u001b[0m\u001b[0mdog\u001b[0m\u001b[1;33m)\u001b[0m\u001b[1;33m+\u001b[0m\u001b[1;34m\"D\"\u001b[0m\u001b[1;33m\u001b[0m\u001b[1;33m\u001b[0m\u001b[0m\n\u001b[0m\u001b[0;32m     26\u001b[0m     \u001b[1;32mreturn\u001b[0m \u001b[0mstri\u001b[0m\u001b[1;33m\u001b[0m\u001b[1;33m\u001b[0m\u001b[0m\n",
      "\u001b[1;31mKeyboardInterrupt\u001b[0m: "
     ]
    }
   ],
   "source": [
    "fulllstuff()"
   ]
  }
 ],
 "metadata": {
  "kernelspec": {
   "display_name": "Python 3",
   "language": "python",
   "name": "python3"
  },
  "language_info": {
   "codemirror_mode": {
    "name": "ipython",
    "version": 3
   },
   "file_extension": ".py",
   "mimetype": "text/x-python",
   "name": "python",
   "nbconvert_exporter": "python",
   "pygments_lexer": "ipython3",
   "version": "3.8.5"
  }
 },
 "nbformat": 4,
 "nbformat_minor": 4
}
