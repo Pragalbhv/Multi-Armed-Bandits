{
 "cells": [
  {
   "cell_type": "code",
   "execution_count": 7,
   "metadata": {},
   "outputs": [],
   "source": [
    "import numpy as np\n",
    "import matplotlib.pyplot as plt\n",
    "from tqdm import tqdm\n",
    "from decimal import Decimal\n"
   ]
  },
  {
   "cell_type": "markdown",
   "metadata": {},
   "source": [
    "Order l2 FPL entropy\n"
   ]
  },
  {
   "cell_type": "code",
   "execution_count": 1,
   "metadata": {},
   "outputs": [
    {
     "ename": "NameError",
     "evalue": "name 'np' is not defined",
     "output_type": "error",
     "traceback": [
      "\u001b[1;31m---------------------------------------------------------------------------\u001b[0m",
      "\u001b[1;31mNameError\u001b[0m                                 Traceback (most recent call last)",
      "\u001b[1;32m<ipython-input-1-f72b02b5cc5c>\u001b[0m in \u001b[0;36m<module>\u001b[1;34m\u001b[0m\n\u001b[0;32m     25\u001b[0m \u001b[1;33m\u001b[0m\u001b[0m\n\u001b[0;32m     26\u001b[0m \u001b[1;32mif\u001b[0m \u001b[0m__name__\u001b[0m\u001b[1;33m==\u001b[0m\u001b[1;34m'__main__'\u001b[0m\u001b[1;33m:\u001b[0m\u001b[1;33m\u001b[0m\u001b[1;33m\u001b[0m\u001b[0m\n\u001b[1;32m---> 27\u001b[1;33m     \u001b[0mz\u001b[0m\u001b[1;33m=\u001b[0m\u001b[0mnp\u001b[0m\u001b[1;33m.\u001b[0m\u001b[0mloadtxt\u001b[0m\u001b[1;33m(\u001b[0m\u001b[1;34m\"./Datasets/Dataset2_Z.txt\"\u001b[0m\u001b[1;33m,\u001b[0m\u001b[0mdelimiter\u001b[0m\u001b[1;33m=\u001b[0m\u001b[1;34m','\u001b[0m\u001b[1;33m)\u001b[0m\u001b[1;33m\u001b[0m\u001b[1;33m\u001b[0m\u001b[0m\n\u001b[0m\u001b[0;32m     28\u001b[0m \u001b[1;33m\u001b[0m\u001b[0m\n\u001b[0;32m     29\u001b[0m     \u001b[0meta1\u001b[0m \u001b[1;33m=\u001b[0m \u001b[1;36m1\u001b[0m\u001b[1;33m/\u001b[0m\u001b[1;33m(\u001b[0m\u001b[1;36m1\u001b[0m\u001b[1;33m*\u001b[0m\u001b[0mnp\u001b[0m\u001b[1;33m.\u001b[0m\u001b[0msqrt\u001b[0m\u001b[1;33m(\u001b[0m\u001b[1;36m2\u001b[0m\u001b[1;33m*\u001b[0m\u001b[0mz\u001b[0m\u001b[1;33m.\u001b[0m\u001b[0mshape\u001b[0m\u001b[1;33m[\u001b[0m\u001b[1;36m0\u001b[0m\u001b[1;33m]\u001b[0m\u001b[1;33m)\u001b[0m\u001b[1;33m)\u001b[0m\u001b[1;33m\u001b[0m\u001b[1;33m\u001b[0m\u001b[0m\n",
      "\u001b[1;31mNameError\u001b[0m: name 'np' is not defined"
     ]
    }
   ],
   "source": [
    "class RunExperiment:\n",
    "    def __init__(self, z, ch=0, eps=0, keep_R=False):\n",
    "        self.z=z\n",
    "        self.ch=ch\n",
    "        self.eps=eps\n",
    "        self.d = self.z.shape[1]\n",
    "        self.keep_R=keep_R\n",
    "\n",
    "        if(self.ch==0):\n",
    "            self.algo=FTRL_L2(self.d,self.eps,self.keep_R)\n",
    "        elif(self.ch==1):\n",
    "            self.algo=FTRL_Entropy(self.d,self.eps,self.keep_R)\n",
    "        elif(self.ch==2):\n",
    "            self.algo=FTRL_FPL(self.d,self.eps)\n",
    "    \n",
    "    def run(self):\n",
    "        for zt in self.z:\n",
    "            self.algo.update(zt)\n",
    "    \n",
    "    def mistakeHistory(self):\n",
    "        return self.algo.mistakeHistory()\n",
    "    \n",
    "    def return_regret(self):\n",
    "        return self.algo.return_regret()\n",
    "\n",
    "if __name__=='__main__':\n",
    "    z=np.loadtxt(\"./Datasets/Dataset2_Z.txt\",delimiter=',')\n",
    "    \n",
    "    eta1 = 1/(1*np.sqrt(2*z.shape[0]))\n",
    "    ch=1\n",
    "    # eta1 = np.sqrt(np.log(z.shape[1]))/(1*np.sqrt(2*z.shape[0]))\n",
    "    # eta1 = np.sqrt(2)/(np.sqrt(z.shape[1]*z.shape[0]))\n",
    "    p1 = RunExperiment(z,ch,eta1,False)\n",
    "    p1.run()\n",
    "    p1_eta = p1.return_regret()\n",
    "    eta2 = np.sqrt(np.log(z.shape[1]))/(1*np.sqrt(2*z.shape[0]))\n",
    "    # eta = 1/(1*np.sqrt(2*z.shape[0]))\n",
    "    p2 = RunExperiment(z,1,100*eta2,False)\n",
    "    \n",
    "    \n",
    "    # eta = np.sqrt(np.log(z.shape[1]))/(1*np.sqrt(2*z.shape[0]))\n",
    "    # p2 = RunExperiment(z,1,eta,True)\n",
    "    \n",
    "    # p1.run()\n",
    "    p2.run()\n",
    "    \n",
    "    p1_r = p1.return_regret()\n",
    "    p2_r = p2.return_regret()\n",
    "    \n",
    "    p3_r_eff = []\n",
    "    for i in tqdm(range(10)):\n",
    "        eta3 = 100*np.sqrt(2)/(np.sqrt(z.shape[1]*z.shape[0]))\n",
    "        p3 = RunExperiment(z,2,eta3)\n",
    "        p3.run()\n",
    "        p3_r_eff.append(p3.return_regret())\n",
    "    \n",
    "    p3_r = np.mean(p3_r_eff, axis=0)\n",
    "    plt.title(\"Regret Plots\")\n",
    "\n",
    "    plt.plot(p1_r, label='L2 Reg')\n",
    "    plt.plot(p2_r, label='Entropic Reg')\n",
    "    plt.plot(p3_r, label='FPL')\n",
    "    \n",
    "    plt.xlabel('Time Steps')\n",
    "    plt.ylabel('Regret')\n",
    "    \n",
    "    plt.legend(loc='best')\n",
    "    plt.show()\n",
    "    # P_mistakes = p1.mistakeHistory()\n",
    "    "
   ]
  },
  {
   "cell_type": "markdown",
   "metadata": {},
   "source": [
    "init"
   ]
  },
  {
   "cell_type": "code",
   "execution_count": 22,
   "metadata": {},
   "outputs": [],
   "source": [
    "def __init__(self, d, eta, reg, keep_R=False):\n",
    "        self.d = d; self.t=0; self.eta=eta; \n",
    "        self.w = np.ones(d)*(1/d);\n",
    "\n",
    "        self.keep_R = keep_R; self.total_loss_expert = np.zeros(d); self.total_loss = 0; self.L=np.sqrt(self.d)\n",
    "        if(self.keep_R):# for l2, fpl\n",
    "            self.L = np.sqrt(self.d*(1+(1/self.eta)))\n",
    "        if reg==2:\n",
    "            self.total_pred_expert = np.zeros(d) #purturbed leader\n",
    "        self.B=1; self.regret=[0]; self.mistake=[]; self.R = np.random.random(self.d)*(1/self.eta)\n",
    "        "
   ]
  },
  {
   "cell_type": "markdown",
   "metadata": {},
   "source": [
    "update"
   ]
  },
  {
   "cell_type": "code",
   "execution_count": 8,
   "metadata": {},
   "outputs": [],
   "source": [
    "def update(self,zt, keep_R=False):\n",
    "\n",
    "#         self.total_loss = self.total_loss + np.sum(zt*self.w)\n",
    "#         self.total_loss_expert =  self.total_loss_expert + zt\n",
    "#         step_regret = self.total_loss -  np.min(self.total_loss_expert)      \n",
    "        self.w = self.w - self.eta*zt\n",
    "        \n",
    "        self.regret.append(step_regret)"
   ]
  },
  {
   "cell_type": "code",
   "execution_count": 10,
   "metadata": {},
   "outputs": [],
   "source": [
    "def update(self,zt, keep_R=False):\n",
    "        \n",
    "#         self.total_loss = self.total_loss + np.sum(zt*self.w)\n",
    "#         self.total_loss_expert =  self.total_loss_expert + zt \n",
    "        self.total_pred_expert = self.total_pred_expert  + zt + self.R\n",
    "        \n",
    "        \n",
    "#         step_regret = self.total_loss -  np.min(self.total_loss_expert)\n",
    "        \n",
    "        self.w = np.zeros_like(self.w)\n",
    "        self.w[np.argmin(self.total_pred_expert)]=1.0\n",
    "        \n",
    "        self.regret.append(step_regret)\n",
    "        self.t=self.t+1"
   ]
  },
  {
   "cell_type": "code",
   "execution_count": 1,
   "metadata": {},
   "outputs": [],
   "source": [
    "def update(self,zt):\n",
    "        \n",
    "#         if(self.keep_R):\n",
    "#             zt = zt + self.R\n",
    "        w_prev = self.w        \n",
    "        \n",
    "#         self.total_loss = self.total_loss + np.sum(zt*self.w)\n",
    "\n",
    "#         self.total_loss_expert = self.total_loss_expert + zt\n",
    "#         step_regret = self.total_loss - np.min(self.total_loss_expert)\n",
    "        \n",
    "        exp_z = np.exp(-self.eta*zt)\n",
    "        self.w = (self.w * exp_z) /np.sum(self.w*exp_z)\n",
    "        self.regret.append(step_regret)"
   ]
  },
  {
   "cell_type": "code",
   "execution_count": null,
   "metadata": {},
   "outputs": [],
   "source": [
    "#with alllllllllllllllllllllllllllllllllllllllllllllllllllllllllllllllllllllll\n",
    "def update(self,zt, reg, keep_R=False):\n",
    "    if ((self.keep_R)and (reg==2)):#for entropy\n",
    "            zt = zt + self.R\n",
    "#         w_prev = self.w\n",
    "    \n",
    "    #basic updates------------------------------------------\n",
    "    self.total_loss = self.total_loss + np.sum(zt*self.w)\n",
    "    self.total_loss_expert =  self.total_loss_expert + zt\n",
    "    step_regret = self.total_loss -  np.min(self.total_loss_expert) \n",
    "    #_________________________________________________________________\n",
    "    \n",
    "    if reg==0:\n",
    "        self.w = self.w - self.eta*zt\n",
    "    #_______________________________________________________________________\n",
    "    if reg==1:\n",
    "        self.total_pred_expert = self.total_pred_expert  + zt + self.R\n",
    "        self.w = np.zeros_like(self.w)\n",
    "        self.w[np.argmin(self.total_pred_expert)]=1.0\n",
    "    #_____________________________________________________________\n",
    "    if reg==2:\n",
    "        exp_z = np.exp(-self.eta*zt)\n",
    "        self.w = (self.w * exp_z) /np.sum(self.w*exp_z)\n",
    "    #_________________________________________________________________________\n",
    "        \n",
    "    self.regret.append(step_regret)\n",
    "    self.t=self.t+1\n",
    "        \n",
    "        \n",
    "        \n",
    "    \n",
    "    "
   ]
  },
  {
   "cell_type": "markdown",
   "metadata": {},
   "source": [
    "final stuffs\n"
   ]
  },
  {
   "cell_type": "code",
   "execution_count": 15,
   "metadata": {},
   "outputs": [],
   "source": [
    "def weight(self):\n",
    "        return self.w\n",
    "    \n",
    "def mistakeHistory(self):\n",
    "    plt.title(\"Euclid\")\n",
    "    plt.plot(self.regret)\n",
    "    theoritical = self.L*self.B*np.sqrt(2*np.arange(len(self.regret)))\n",
    "    # plt.plot(theoritical, 'k')\n",
    "    plt.show()\n",
    "\n",
    "def return_regret(self):\n",
    "    return self.regret\n",
    "\n",
    "def reset_weight(self):\n",
    "    self.w = self.projectSimplex(np.zeros(self.d))\n",
    "    self.R = np.random.random(self.d)*(1/self.eta)"
   ]
  },
  {
   "cell_type": "code",
   "execution_count": 17,
   "metadata": {},
   "outputs": [],
   "source": [
    "    def weight(self):\n",
    "        return self.w\n",
    "    \n",
    "    def mistakeHistory(self):\n",
    "        plt.title(\"Euclid\")\n",
    "        plt.plot(self.regret)\n",
    "        theoritical = self.L*self.B*np.sqrt(2*np.arange(len(self.regret)))\n",
    "        # plt.plot(theoritical, 'k')\n",
    "        plt.show()\n",
    "    \n",
    "    def return_regret(self):\n",
    "        return self.regret\n",
    "    \n",
    "    def reset_weight(self):\n",
    "        self.w = self.projectSimplex(np.zeros(self.d))\n",
    "        self.R = np.random.random(self.d)*(1/self.eta)\n",
    "\n"
   ]
  },
  {
   "cell_type": "code",
   "execution_count": 18,
   "metadata": {},
   "outputs": [],
   "source": [
    "    def weight(self):\n",
    "        return self.w\n",
    "    \n",
    "    def mistakeHistory(self,B=1,L=1):\n",
    "        plt.plot(self.regret)\n",
    "        theoritical = np.sqrt(2*np.log(self.d)*np.arange(len(self.regret)))\n",
    "        \n",
    "        theoritical = self.L*self.B*np.sqrt(2*np.log(self.d)*np.arange(len(self.regret)))\n",
    "        # plt.plot(theoritical, 'k')\n",
    "        plt.show()\n",
    "\n",
    "    def return_regret(self):\n",
    "        return self.regret\n",
    "    \n",
    "    def reset_weight(self):\n",
    "        self.w = np.ones(self.d)*(1/self.d)\n",
    "        self.R = np.random.random(self.d)*(1/self.eta)\n"
   ]
  },
  {
   "cell_type": "markdown",
   "metadata": {},
   "source": [
    "FTRL L2 ka prjocet simplex\n"
   ]
  },
  {
   "cell_type": "code",
   "execution_count": 10,
   "metadata": {},
   "outputs": [],
   "source": [
    "def projectSimplex(y):\n",
    "        m = len(y)\n",
    "        bget=False\n",
    "        s = sorted(y)[::-1]\n",
    "        tmpsum=0\n",
    "\n",
    "        for i in range(0,m-1):\n",
    "            tmpsum = tmpsum + s[i]\n",
    "            tmax = (tmpsum - 1)/(i+1)\n",
    "            if tmax>=s[i+1]:\n",
    "                bget=True\n",
    "                break\n",
    "        if(not bget):\n",
    "            tmax = (tmpsum+s[m-1]-1)/m\n",
    "        mask = y-tmax>=0.0\n",
    "        return (y-tmax)*mask"
   ]
  },
  {
   "cell_type": "code",
   "execution_count": 24,
   "metadata": {},
   "outputs": [],
   "source": [
    "def projection(w):\n",
    "    #sort w in decending order\n",
    "    w_sort=sorted(w,reverse=True)\n",
    "    w_sum=0\n",
    "    for j in range (0,len(w)):\n",
    "        w_sum=w_sum+w_sort[j]\n",
    "        v=2*(w_sum-1)/(j+1)\n",
    "\n",
    "        if w_sort[j]-0.5*v <0:\n",
    "\n",
    "            break\n",
    "    # calculate x_opt in real order using real w\n",
    "    x_opt=[]\n",
    "    for i in range (0,len(w)):\n",
    "        x_opt.append(w[i]-0.5*v)\n",
    "    return x_opt"
   ]
  },
  {
   "cell_type": "code",
   "execution_count": 25,
   "metadata": {},
   "outputs": [],
   "source": [
    "w=np.random.random(9)"
   ]
  },
  {
   "cell_type": "code",
   "execution_count": 28,
   "metadata": {},
   "outputs": [
    {
     "data": {
      "text/plain": [
       "array([ 0.28972383, -0.        ,  0.28532102, -0.        ,  0.05320605,\n",
       "        0.1372737 ,  0.2344754 , -0.        , -0.        ])"
      ]
     },
     "execution_count": 28,
     "metadata": {},
     "output_type": "execute_result"
    }
   ],
   "source": [
    "projectSimplex(w)"
   ]
  },
  {
   "cell_type": "code",
   "execution_count": 29,
   "metadata": {},
   "outputs": [
    {
     "data": {
      "text/plain": [
       "[0.31933338707120873,\n",
       " -0.2894118570803078,\n",
       " 0.31493058464076884,\n",
       " -0.22710566565987034,\n",
       " 0.08281560918398978,\n",
       " 0.16688326032424272,\n",
       " 0.2640849639621522,\n",
       " -0.4973144652355711,\n",
       " -0.14804780518236216]"
      ]
     },
     "execution_count": 29,
     "metadata": {},
     "output_type": "execute_result"
    }
   ],
   "source": [
    "projection(w)"
   ]
  },
  {
   "cell_type": "code",
   "execution_count": null,
   "metadata": {},
   "outputs": [],
   "source": []
  }
 ],
 "metadata": {
  "kernelspec": {
   "display_name": "Python 3",
   "language": "python",
   "name": "python3"
  },
  "language_info": {
   "codemirror_mode": {
    "name": "ipython",
    "version": 3
   },
   "file_extension": ".py",
   "mimetype": "text/x-python",
   "name": "python",
   "nbconvert_exporter": "python",
   "pygments_lexer": "ipython3",
   "version": "3.8.5"
  }
 },
 "nbformat": 4,
 "nbformat_minor": 4
}
